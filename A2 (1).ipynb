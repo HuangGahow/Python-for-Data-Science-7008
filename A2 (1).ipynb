{
 "cells": [
  {
   "cell_type": "markdown",
   "metadata": {},
   "source": [
    "### OOP and File I/O\n",
    "#### 1. (1 points) Classes and objects\n",
    "#### a) Analyze how the below code works in detail"
   ]
  },
  {
   "cell_type": "code",
   "execution_count": 10,
   "metadata": {},
   "outputs": [
    {
     "name": "stdout",
     "output_type": "stream",
     "text": [
      "caution!\n"
     ]
    }
   ],
   "source": [
    "class A:\n",
    "    def send_meg(self):\n",
    "        print(\"caution!\")\n",
    "class B(A):\n",
    "    def send_meg(self):\n",
    "        print(\"caution!\")\n",
    "class C(A):\n",
    "    def send_meg(self):\n",
    "        print(\"You are here!\")\n",
    "class D(B,C):\n",
    "    pass\n",
    "\n",
    "d = D()\n",
    "d.send_meg()"
   ]
  },
  {
   "cell_type": "markdown",
   "metadata": {},
   "source": [
    "#### Answer:\n",
    "The first row code define a new class A, it has method \"send_meg\", when we use it, \"caution!\" is printed. \n",
    "\n",
    "B is a subclass of A, but it override the A's method \"send_meg\" through the print result is the same. \n",
    "\n",
    "C is a inheritance of B and it also override the \"send_meg\" method, it will print \"You are here!\". \n",
    "\n",
    "D is a subclass that inherits from B and C. Because B and C has the same method send_meg and D is defined by D(B,C), B is in the left, so  B's method is invoked first but not C's. When run \"d.send_meg()\", it prints \"caution!\"."
   ]
  },
  {
   "cell_type": "markdown",
   "metadata": {},
   "source": [
    "#### b) Analyze how the code block below works, and what’s the benefits of super keyword in the code block "
   ]
  },
  {
   "cell_type": "code",
   "execution_count": 15,
   "metadata": {},
   "outputs": [
    {
     "name": "stdout",
     "output_type": "stream",
     "text": [
      "the mobile is: Apple\n",
      "the ram is: 2\n",
      "the storage is: 64\n",
      "the model is: iphone X\n"
     ]
    }
   ],
   "source": [
    "class Computer():\n",
    "    def __init__(self, computer, ram, storage):\n",
    "        self.computer = computer\n",
    "        self.ram = ram\n",
    "        self.storage = storage\n",
    "        \n",
    "#Class mobile inherits Computer\n",
    "class Mobile(Computer):\n",
    "    def __init__(self, computer, ram, storage, model):\n",
    "        super().__init__(computer, ram, storage)\n",
    "        self.model = model\n",
    "\n",
    "Apple = Mobile('Apple',2,64,'iphone X')\n",
    "print(\"the mobile is:\", Apple.computer)\n",
    "print(\"the ram is:\", Apple.ram)\n",
    "print(\"the storage is:\", Apple.storage)\n",
    "print(\"the model is:\", Apple.model)"
   ]
  },
  {
   "cell_type": "markdown",
   "metadata": {},
   "source": [
    "#### Answer:\n",
    "The parentclass Computer is created first, then subclass Moblie inherits Computer's main method,and attributes includes computer, ram and storage.\n",
    "\n",
    "The benefits of super() is accessing methods of the base class more easily. When we override the method in subclass, we could use super() to access parentsclass's method."
   ]
  },
  {
   "cell_type": "markdown",
   "metadata": {},
   "source": [
    "#### c) Analyze how the code block works: when Cat() and CannotSwim() is called, analyze the process of inheritances.\n"
   ]
  },
  {
   "cell_type": "code",
   "execution_count": 19,
   "metadata": {},
   "outputs": [
    {
     "name": "stdout",
     "output_type": "stream",
     "text": [
      "i am a cat\n",
      "Cat cannot fly\n",
      "Cat cannot swim\n",
      "Cat is an mammal\n",
      "Cat is an animal\n",
      "\n",
      "Bat cannot swim\n",
      "Bat is an mammal\n",
      "Bat is an animal\n"
     ]
    }
   ],
   "source": [
    "class Animal:\n",
    "    def __init__(self, animalName):\n",
    "        print(animalName, 'is an animal')\n",
    "# Mammal inherits Animal\n",
    "class Mammal(Animal):\n",
    "    def __init__(self, mammalName):\n",
    "        print(mammalName, 'is an mammal')\n",
    "        super().__init__(mammalName)\n",
    "        \n",
    "class CannotFly(Mammal):\n",
    "    def __init__(self, mammalThatcannotFly):\n",
    "        print(mammalThatcannotFly, 'cannot fly')\n",
    "        super().__init__(mammalThatcannotFly)   \n",
    "        \n",
    "class CannotSwim(Mammal):\n",
    "    def __init__(self, mammalThatcannotSwim):\n",
    "        print(mammalThatcannotSwim, 'cannot swim')\n",
    "        super().__init__(mammalThatcannotSwim)   \n",
    "        \n",
    "class Cat(CannotFly,CannotSwim):\n",
    "    def __init__(self):\n",
    "        print('i am a cat')\n",
    "        super().__init__('Cat')   \n",
    "        \n",
    "cat = Cat()\n",
    "print('')\n",
    "bat = CannotSwim('Bat')"
   ]
  },
  {
   "cell_type": "markdown",
   "metadata": {},
   "source": [
    "#### Answer:\n",
    "When the Cat() is called, the unique method belong to class Cat is firstly invoked. Because Cat is subclass of CannotFly and CannotSwim, so 'cannot fly' is invoked, then prints 'cannot swim'. Due to CannotFly and CannotSwim are both subclass of Mammal, so print(mammalName, 'is an mammal') is called. Mammal inherits Animal, so finnaly \"Cat is an animal\" is printed.\n",
    "\n",
    "When CannotSwim('Bat') is called,  print(mammalThatcannotSwim, 'cannot swim') is firstly invoked. Due to  CannotSwim is subclass of Mammal, so print(mammalName, 'is an mammal') is called. Mammal inherits Animal, so finnaly \"Cat is an animal\" is printed."
   ]
  },
  {
   "cell_type": "markdown",
   "metadata": {},
   "source": [
    "### 2. (2.5 points) \n",
    "#### Wireless Solutions, Inc. is a business that sells cell phones and wireless service. You are a programmer in the company's IT department, and your team is designing a program to manage all the cell phones that are in inventory. You are asked to design a class that represents a cell phone. The data that should be kept as attributes in the class are as follows:\n",
    "#### (1) Define a CellPhone class and store it in a .py file."
   ]
  },
  {
   "cell_type": "code",
   "execution_count": 69,
   "metadata": {},
   "outputs": [],
   "source": [
    "class Cellphone:\n",
    "    def __init__(self,manufact=None,model=None,retail_price=None,inventory=None):\n",
    "        self.__manufact = manufact\n",
    "        self.__model = model\n",
    "        self.__retail_price = retail_price\n",
    "        self.__inventory = inventory\n",
    "        \n",
    "    def set_manufact(self,manufact):\n",
    "        self.__manufact = manufact\n",
    "        \n",
    "    def set_model(self,model):\n",
    "        self.__model = model\n",
    "    \n",
    "    def set_retail_price(self,retail_price):\n",
    "        self.__retail_price = retail_price\n",
    "        \n",
    "    def set_inventory(self,inventory):\n",
    "        self.__inventory = inventory\n",
    "        \n",
    "    def get_manufact(self):\n",
    "        return self.__manufact\n",
    "    \n",
    "    def get_model(self):\n",
    "        return self.__model\n",
    "        \n",
    "    def get_retail_price(self):\n",
    "        return self.__retail_price\n",
    "        \n",
    "    def get_inventory(self):\n",
    "        return self.__inventory\n",
    "    "
   ]
  },
  {
   "cell_type": "markdown",
   "metadata": {},
   "source": [
    "#### (2) Import the defined CellPhone class from .py file, and then test all attributed functions. Specifically, you first use a set_XXX function to define a related value of a cellphone, and then print the value based on get_XXX."
   ]
  },
  {
   "cell_type": "code",
   "execution_count": 65,
   "metadata": {},
   "outputs": [
    {
     "name": "stdout",
     "output_type": "stream",
     "text": [
      "Manufact: huawei\n",
      "Model: iphone X\n",
      "Retail Price: 9999\n",
      "Inventory: 99\n"
     ]
    }
   ],
   "source": [
    "#from Q2test import Cellphone\n",
    "a = Cellphone()\n",
    "a.set_manufact('huawei')\n",
    "a.set_model('iphone X')\n",
    "a.set_retail_price(9999)\n",
    "a.set_inventory(99)\n",
    "print('Manufact:', a.get_manufact())\n",
    "print('Model:', a.get_model())\n",
    "print('Retail Price:', a.get_retail_price())\n",
    "print('Inventory:', a.get_inventory())"
   ]
  },
  {
   "cell_type": "markdown",
   "metadata": {},
   "source": [
    "#### (3) Write a function that \n",
    "\n",
    "a) allows user to input a cell phone manufacturer, model number, its retail price and its \n",
    "current inventory; \n",
    "\n",
    "b) saves the input informative into the CellPhone class."
   ]
  },
  {
   "cell_type": "code",
   "execution_count": 145,
   "metadata": {},
   "outputs": [],
   "source": [
    "def getcellphone(manufact=None,model=None,retail_price=None,inventory=None,inputornot = False):\n",
    "    if inputornot == True:\n",
    "        \n",
    "        manufact = input(\"manufact:\")\n",
    "        model = input(\"model:\")\n",
    "        retail_price = input(\"retail_price:\")\n",
    "        inventory = input(\"inventory:\")\n",
    "    cellphone1 = Cellphone(manufact, model, retail_price, inventory)\n",
    "    return cellphone1"
   ]
  },
  {
   "cell_type": "code",
   "execution_count": 77,
   "metadata": {},
   "outputs": [
    {
     "name": "stdout",
     "output_type": "stream",
     "text": [
      "manufact:apple\n",
      "model:X\n",
      "retail_price:29\n",
      "inventory:100\n"
     ]
    },
    {
     "data": {
      "text/plain": [
       "<__main__.Cellphone at 0x2b5d3d489d0>"
      ]
     },
     "execution_count": 77,
     "metadata": {},
     "output_type": "execute_result"
    }
   ],
   "source": [
    "mycellphone = getcellphone(inputornot =True)\n",
    "def printclass(a):\n",
    "    print('Manufact:', a.get_manufact())\n",
    "    print('Model:', a.get_model())\n",
    "    print('Retail Price:', a.get_retail_price())\n",
    "    print('Inventory:', a.get_inventory())\n"
   ]
  },
  {
   "cell_type": "code",
   "execution_count": 78,
   "metadata": {},
   "outputs": [
    {
     "name": "stdout",
     "output_type": "stream",
     "text": [
      "Manufact: apple\n",
      "Model: X\n",
      "Retail Price: 29\n",
      "Inventory: 100\n"
     ]
    }
   ],
   "source": [
    "printclass(mycellphone)"
   ]
  },
  {
   "cell_type": "markdown",
   "metadata": {},
   "source": [
    "#### (4) \n",
    "Based on the above function, write a program to read the provided 'cellphones2.dat', transfer the phones’ information into CellPhone objects and store the objects in a list. Finally, iterate over the list and display all attributes of the cellphones whose price less than $200."
   ]
  },
  {
   "cell_type": "code",
   "execution_count": 154,
   "metadata": {},
   "outputs": [
    {
     "data": {
      "text/plain": [
       "[['Acme Electronics', 'M1000', '199.99', '260'],\n",
       " ['Atlantic Communications', 'S2', '149.99', '590'],\n",
       " ['Wavelength Electronics', 'N477', '249.99', '450'],\n",
       " ['Edison Wireless', 'SLX88', '169.99', '860'],\n",
       " ['Sonic Systems', 'X99', '299.99', '130']]"
      ]
     },
     "execution_count": 154,
     "metadata": {},
     "output_type": "execute_result"
    }
   ],
   "source": [
    "fileo = open(\"cellphones2.dat\") \n",
    "\n",
    "phonedata = fileo.readlines()\n",
    "phonedata = [ [' '.join(item.split(' ')[:2])] + item.strip('\\n').split(' ')[2:] for item in phonedata ]\n",
    "phonedata"
   ]
  },
  {
   "cell_type": "code",
   "execution_count": 168,
   "metadata": {},
   "outputs": [],
   "source": [
    "cellphonelist = []\n",
    "for item in phonedata:\n",
    "    cellphonelist.append(Cellphone(item[0],item[1],float(item[2]),float(item[3])))"
   ]
  },
  {
   "cell_type": "code",
   "execution_count": 169,
   "metadata": {},
   "outputs": [
    {
     "data": {
      "text/plain": [
       "[<__main__.Cellphone at 0x2b5d3d33ca0>,\n",
       " <__main__.Cellphone at 0x2b5d3d33be0>,\n",
       " <__main__.Cellphone at 0x2b5d3d33fd0>,\n",
       " <__main__.Cellphone at 0x2b5d3d338b0>,\n",
       " <__main__.Cellphone at 0x2b5d3d33760>]"
      ]
     },
     "execution_count": 169,
     "metadata": {},
     "output_type": "execute_result"
    }
   ],
   "source": [
    "cellphonelist"
   ]
  },
  {
   "cell_type": "code",
   "execution_count": 175,
   "metadata": {},
   "outputs": [
    {
     "name": "stdout",
     "output_type": "stream",
     "text": [
      "Manufact: Acme Electronics\n",
      "Model: M1000\n",
      "Retail Price: 199.99\n",
      "Inventory: 260.0\n",
      "\n",
      "\n",
      "Manufact: Atlantic Communications\n",
      "Model: S2\n",
      "Retail Price: 149.99\n",
      "Inventory: 590.0\n",
      "\n",
      "\n",
      "Manufact: Edison Wireless\n",
      "Model: SLX88\n",
      "Retail Price: 169.99\n",
      "Inventory: 860.0\n",
      "\n",
      "\n"
     ]
    }
   ],
   "source": [
    "cheapphone = [cellphone for cellphone in cellphonelist if cellphone.get_retail_price()< 200]\n",
    "for cellphone in cheapphone:\n",
    "    printclass(cellphone)\n",
    "    print(\"\\n\")"
   ]
  },
  {
   "cell_type": "markdown",
   "metadata": {},
   "source": [
    "### Numpy, Scipy and Pandas\n",
    "#### 3. (1.5 points) Write code to solve the following problems."
   ]
  },
  {
   "cell_type": "markdown",
   "metadata": {},
   "source": [
    "#### (1) Compute the rank of a matrix."
   ]
  },
  {
   "cell_type": "code",
   "execution_count": 12,
   "metadata": {},
   "outputs": [
    {
     "data": {
      "text/plain": [
       "3"
      ]
     },
     "execution_count": 12,
     "metadata": {},
     "output_type": "execute_result"
    }
   ],
   "source": [
    "import numpy as np\n",
    "#from scipy import linalg\n",
    "a = np.array([[1,2,3],\n",
    "            [4,7,6],\n",
    "            [8,10,5]])\n",
    "rank = np.linalg.matrix_rank(a)\n",
    "rank"
   ]
  },
  {
   "cell_type": "markdown",
   "metadata": {},
   "source": [
    "#### (2) Consider a 25x25 array, and how to get the block-sum (block size is 5x5).\n"
   ]
  },
  {
   "cell_type": "code",
   "execution_count": 61,
   "metadata": {},
   "outputs": [],
   "source": [
    "def blocksum(x, n=5): #dynamic variables\n",
    "    names = locals()\n",
    "    result = []\n",
    "    for i in range(n):\n",
    "        names['mat'+ str(i)] = np.hsplit(x,n)[i]\n",
    "        for j in range(n):\n",
    "            names['mat'+str(i)+str(j)]=np.vsplit(names['mat'+ str(i)],n)[j]\n",
    "            names['ele'+str(i)+str(j)]=np.sum(names['mat'+str(i)+str(j)])\n",
    "            result.append(names['ele'+str(i)+str(j)])\n",
    "    result = np.array(result).reshape(n,n)\n",
    "    return result"
   ]
  },
  {
   "cell_type": "code",
   "execution_count": 64,
   "metadata": {},
   "outputs": [
    {
     "data": {
      "text/plain": [
       "array([[25, 25, 25, 25, 25],\n",
       "       [25, 25, 25, 25, 25],\n",
       "       [25, 25, 25, 25, 25],\n",
       "       [25, 25, 25, 25, 25],\n",
       "       [25, 25, 25, 25, 25]])"
      ]
     },
     "execution_count": 64,
     "metadata": {},
     "output_type": "execute_result"
    }
   ],
   "source": [
    "x = np.array(np.repeat(1,25*25)).reshape(25,25)\n",
    "blocksum(x, n=5)"
   ]
  },
  {
   "cell_type": "markdown",
   "metadata": {},
   "source": [
    "#### (3) Compute averages using a sliding window over an array."
   ]
  },
  {
   "cell_type": "code",
   "execution_count": 59,
   "metadata": {},
   "outputs": [
    {
     "data": {
      "text/plain": [
       "array([1., 2., 3., 4., 5., 6., 7., 8.])"
      ]
     },
     "execution_count": 59,
     "metadata": {},
     "output_type": "execute_result"
    }
   ],
   "source": [
    "a = np.arange(0,10)\n",
    "def moving_average(x,n=3):\n",
    "    ret = np.cumsum(x, dtype=float)\n",
    "    ret[n:] = ret[n:]-ret[:-n]\n",
    "    return ret[n-1:]/n\n",
    "\n",
    "moving_average(a,n=3)\n"
   ]
  },
  {
   "cell_type": "markdown",
   "metadata": {},
   "source": [
    "#### (4) Compute a large vector Z to the power of 3 using 3 different methods and report their computational time."
   ]
  },
  {
   "cell_type": "code",
   "execution_count": 13,
   "metadata": {},
   "outputs": [
    {
     "name": "stdout",
     "output_type": "stream",
     "text": [
      "232 µs ± 54.8 µs per loop (mean ± std. dev. of 7 runs, 1000 loops each)\n",
      "9.5 µs ± 1.25 µs per loop (mean ± std. dev. of 7 runs, 100000 loops each)\n",
      "16.5 µs ± 2.15 µs per loop (mean ± std. dev. of 7 runs, 10000 loops each)\n"
     ]
    }
   ],
   "source": [
    "x = np.random.rand(int(4e3))\n",
    "\n",
    "%timeit np.power(x,3)\n",
    "%timeit x*x*x\n",
    "%timeit np.einsum('i,i,i->i',x,x,x)"
   ]
  },
  {
   "cell_type": "markdown",
   "metadata": {},
   "source": [
    "#### (5) Given two vectors, implement the summation of matrix elements, matrix multiplication, batch matrix multiplication, inner/outer/Hadamard product, transpose, trace, and bilinear transformation through the einsum notation."
   ]
  },
  {
   "cell_type": "code",
   "execution_count": 98,
   "metadata": {},
   "outputs": [
    {
     "name": "stdout",
     "output_type": "stream",
     "text": [
      "vector1 is  [[ 0.62172671 -0.94336186 -1.1652065 ]\n",
      " [-0.94395954 -0.06621798  0.78517809]\n",
      " [-0.75290125  1.84068198 -0.15865925]]\n",
      "vector2 is  [[-0.34093169 -0.21764346 -1.00425779]\n",
      " [ 1.84511983 -0.66164722 -2.60868334]\n",
      " [-0.15172907  0.2894655   0.07769527]]\n"
     ]
    }
   ],
   "source": [
    "v1 = np.random.randn(3,3)\n",
    "v2 = np.random.randn(3,3)\n",
    "print('vector1 is ',format(v1))\n",
    "print('vector2 is ',format(v2))"
   ]
  },
  {
   "cell_type": "code",
   "execution_count": 100,
   "metadata": {},
   "outputs": [
    {
     "name": "stdout",
     "output_type": "stream",
     "text": [
      "summation of mat1 =  -0.782719606703316\n"
     ]
    }
   ],
   "source": [
    "# 1.summation\n",
    "summation = np.einsum('ij->',v1)\n",
    "print('summation of mat1 = ',format(summation))"
   ]
  },
  {
   "cell_type": "code",
   "execution_count": 65,
   "metadata": {},
   "outputs": [
    {
     "name": "stdout",
     "output_type": "stream",
     "text": [
      "v1 * v2 is \n",
      "[[-0.61998637 -1.87352683 -0.34728209]\n",
      " [-1.07794655 -0.6988572   0.54487094]\n",
      " [ 1.28611476 -1.25181327 -1.51103982]]\n",
      "\n"
     ]
    }
   ],
   "source": [
    "# 2.multiplication\n",
    "multiplication = np.einsum('ik,kj->ij', v1,v2)\n",
    "print('v1 * v2 is ',format(multiplication))"
   ]
  },
  {
   "cell_type": "code",
   "execution_count": 101,
   "metadata": {},
   "outputs": [
    {
     "name": "stdout",
     "output_type": "stream",
     "text": [
      "batch matrix multiplication of mat1_batch and mat2_batch is [[[-1.36842735 -0.55163406 -1.83962359]\n",
      "  [-1.2509092   0.78688893 -1.8036269 ]\n",
      "  [-3.30702578 -0.63652696 -0.58670161]]\n",
      "\n",
      " [[ 0.27416864  0.99988511  1.36054668]\n",
      "  [-0.01568699  0.22086865  2.96165394]\n",
      "  [ 4.1474185   0.51108817 -2.3052494 ]]]\n",
      "the shape of batch matrix multiplication of mat1_batch and mat2_batch is (2, 3, 3)\n"
     ]
    }
   ],
   "source": [
    "#3.batch matrix multiplication\n",
    "batchnumber = 2\n",
    "batch1 = np.random.randn(batchnumber,3,3)\n",
    "batch2 = np.random.randn(batchnumber,3,3)\n",
    "\n",
    "batch_matrix_multiplication = np.einsum('ijk,ikl->ijl', batch1, batch2)\n",
    "print('batch matrix multiplication of mat1_batch and mat2_batch is',format(batch_matrix_multiplication))\n",
    "print('the shape of batch matrix multiplication of mat1_batch and mat2_batch is',format(batch_matrix_multiplication.shape))"
   ]
  },
  {
   "cell_type": "code",
   "execution_count": 68,
   "metadata": {},
   "outputs": [
    {
     "name": "stdout",
     "output_type": "stream",
     "text": [
      "the inner product of v1 and v2 is \n",
      "[[-0.61998637 -1.87352683 -0.34728209]\n",
      " [-1.07794655 -0.6988572   0.54487094]\n",
      " [ 1.28611476 -1.25181327 -1.51103982]]\n",
      "\n"
     ]
    }
   ],
   "source": [
    "# 4.inner product\n",
    "inner_product = np.einsum('ik,kj->ij', v1, v2)\n",
    "print('the inner product of v1 and v2 is ',format(inner_product))\n"
   ]
  },
  {
   "cell_type": "code",
   "execution_count": 69,
   "metadata": {},
   "outputs": [
    {
     "name": "stdout",
     "output_type": "stream",
     "text": [
      "the outer product of v1 and v2 is \n",
      "[[-0.16921328 -0.21572113 -0.51118251]\n",
      " [-0.01857397  0.20970929  0.26000666]\n",
      " [-0.79750416  0.65661835 -0.07055271]]\n",
      "\n"
     ]
    }
   ],
   "source": [
    "# 5.outer product\n",
    "outer_product = np.einsum('ij,ij->ij', v1, v2)\n",
    "print('the outer product of v1 and v2 is',format(outer_product))"
   ]
  },
  {
   "cell_type": "code",
   "execution_count": 70,
   "metadata": {},
   "outputs": [
    {
     "name": "stdout",
     "output_type": "stream",
     "text": [
      "the Hadamard product of v1 and v2 is \n",
      "[[-0.16921328 -0.21572113 -0.51118251]\n",
      " [-0.01857397  0.20970929  0.26000666]\n",
      " [-0.79750416  0.65661835 -0.07055271]]\n",
      "\n"
     ]
    }
   ],
   "source": [
    "# 6.Hadamard product\n",
    "Hadamard_product = np.einsum('ij,ij->ij', v1, v2)\n",
    "print('the Hadamard product of v1 and v2 is ',format(Hadamard_product))"
   ]
  },
  {
   "cell_type": "code",
   "execution_count": 96,
   "metadata": {},
   "outputs": [
    {
     "name": "stdout",
     "output_type": "stream",
     "text": [
      "the transpose of v1 is  [[ 1.57449825 -1.0205129  -0.00710659]\n",
      " [ 0.87130949 -3.2552499  -0.37879016]\n",
      " [-0.6282626  -1.12162258  0.66525781]]\n"
     ]
    }
   ],
   "source": [
    "# 7.transpose\n",
    "transpose = np.einsum('ij->ji', v1)\n",
    "print('the transpose of v1 is ',format(transpose))"
   ]
  },
  {
   "cell_type": "code",
   "execution_count": 95,
   "metadata": {},
   "outputs": [
    {
     "name": "stdout",
     "output_type": "stream",
     "text": [
      "the trace of mat1 is  -1.0154938371117195\n"
     ]
    }
   ],
   "source": [
    "# 8.trace\n",
    "trace = np.einsum('ii', v1)\n",
    "print('the trace of mat1 is ',format(trace))"
   ]
  },
  {
   "cell_type": "code",
   "execution_count": 73,
   "metadata": {},
   "outputs": [
    {
     "name": "stdout",
     "output_type": "stream",
     "text": [
      "the bilinear transformation(Aik Bjkl Cil)ij is \n",
      "[[ 7.71468799  1.11524439 -1.4184724   2.66994961  0.29083077]\n",
      " [ 2.33019891  0.16975506 -0.03145232 -3.38864905 -2.25278574]]\n",
      "\n"
     ]
    }
   ],
   "source": [
    "# 9.bilinear transformation through the einsum notation\n",
    "a = np.random.randn(2,3)\n",
    "b = np.random.randn(5,3,7)\n",
    "c = np.random.randn(2,7)\n",
    "print('the bilinear transformation(Aik Bjkl Cil)ij is \\n{}\\n'.format(np.einsum('ik,jkl,il->ij', a, b, c)))"
   ]
  },
  {
   "cell_type": "markdown",
   "metadata": {},
   "source": [
    "#### 4. (0.5 points) Write code to complete the following task."
   ]
  },
  {
   "cell_type": "code",
   "execution_count": 34,
   "metadata": {},
   "outputs": [
    {
     "name": "stdout",
     "output_type": "stream",
     "text": [
      "path:  [0, 2, 5, 4]\n",
      "distance:  20\n"
     ]
    }
   ],
   "source": [
    "x = float('inf')          \n",
    "def dijkstra(mat,begin,end):\n",
    "    n = len(mat) \n",
    "    parent = []        \n",
    "    collected = []          \n",
    "    distTo = mat[begin]         \n",
    "    path = []       \n",
    "    for i in range(0,n):            \n",
    "        if i == begin:            \n",
    "            collected.append(True)           \n",
    "        else:            \n",
    "            collected.append(False)        \n",
    "        parent.append(-1)           \n",
    "    while True:        \n",
    "        if collected[end]==True:            \n",
    "            break        \n",
    "        min_n = x        \n",
    "        for i in range(0,n):            \n",
    "            if collected[i]==False:                \n",
    "                if distTo[i] < min_n:      \n",
    "                    min_n = distTo[i]                    \n",
    "                    v = i        \n",
    "        collected[v] = True        \n",
    "        for i in range (0,n):            \n",
    "            if (collected[i]==False) and (distTo[v] + mat[v][i] < distTo[i]):                   \n",
    "                parent[i] = v\n",
    "                distTo[i] = distTo[v] + mat[v][i]\n",
    "    e = end    \n",
    "    while e != -1:      \n",
    "        path.append(e)        \n",
    "        e = parent[e]    \n",
    "    path.append(begin)                     \n",
    "    path.reverse()    \n",
    "    print(\"path: \",path)    \n",
    "    print(\"distance: \",distTo[end])\n",
    "\n",
    "\n",
    "if __name__ == \"__main__\":\n",
    "    matrix = [             \n",
    "    [0, 7, 9, x, x, 14],\n",
    "    [7, 0, 10, 15, x, x],\n",
    "    [9, 10, 0, 11, x, 2],\n",
    "    [x, 15, 11, 0, 6, x],\n",
    "    [x, x, x, 6, 0, 9],\n",
    "    [14, x, 2, x, 9, 0]]\n",
    "    dijkstra(mat = matrix,begin = 0,end = 4)\n",
    "\n",
    "\n"
   ]
  },
  {
   "cell_type": "markdown",
   "metadata": {},
   "source": [
    "#### 5. (1.5 points) In CSV file “nba.csv”, there are NBA players’ information including name, team, position, age etc."
   ]
  },
  {
   "cell_type": "markdown",
   "metadata": {},
   "source": [
    "(1) Read “nba.csv” with Pandas package, return average weight and salary of all players."
   ]
  },
  {
   "cell_type": "code",
   "execution_count": 7,
   "metadata": {},
   "outputs": [
    {
     "data": {
      "text/html": [
       "<div>\n",
       "<style scoped>\n",
       "    .dataframe tbody tr th:only-of-type {\n",
       "        vertical-align: middle;\n",
       "    }\n",
       "\n",
       "    .dataframe tbody tr th {\n",
       "        vertical-align: top;\n",
       "    }\n",
       "\n",
       "    .dataframe thead th {\n",
       "        text-align: right;\n",
       "    }\n",
       "</style>\n",
       "<table border=\"1\" class=\"dataframe\">\n",
       "  <thead>\n",
       "    <tr style=\"text-align: right;\">\n",
       "      <th></th>\n",
       "      <th>Name</th>\n",
       "      <th>Team</th>\n",
       "      <th>Number</th>\n",
       "      <th>Position</th>\n",
       "      <th>Age</th>\n",
       "      <th>Height</th>\n",
       "      <th>Weight</th>\n",
       "      <th>College</th>\n",
       "      <th>Salary</th>\n",
       "    </tr>\n",
       "  </thead>\n",
       "  <tbody>\n",
       "    <tr>\n",
       "      <th>0</th>\n",
       "      <td>Avery Bradley</td>\n",
       "      <td>Boston Celtics</td>\n",
       "      <td>0.0</td>\n",
       "      <td>PG</td>\n",
       "      <td>25.0</td>\n",
       "      <td>6-2</td>\n",
       "      <td>180.0</td>\n",
       "      <td>Texas</td>\n",
       "      <td>7730337.0</td>\n",
       "    </tr>\n",
       "    <tr>\n",
       "      <th>1</th>\n",
       "      <td>Jae Crowder</td>\n",
       "      <td>Boston Celtics</td>\n",
       "      <td>99.0</td>\n",
       "      <td>SF</td>\n",
       "      <td>25.0</td>\n",
       "      <td>6-6</td>\n",
       "      <td>235.0</td>\n",
       "      <td>Marquette</td>\n",
       "      <td>6796117.0</td>\n",
       "    </tr>\n",
       "    <tr>\n",
       "      <th>2</th>\n",
       "      <td>John Holland</td>\n",
       "      <td>Boston Celtics</td>\n",
       "      <td>30.0</td>\n",
       "      <td>SG</td>\n",
       "      <td>27.0</td>\n",
       "      <td>6-5</td>\n",
       "      <td>205.0</td>\n",
       "      <td>Boston University</td>\n",
       "      <td>NaN</td>\n",
       "    </tr>\n",
       "    <tr>\n",
       "      <th>3</th>\n",
       "      <td>R.J. Hunter</td>\n",
       "      <td>Boston Celtics</td>\n",
       "      <td>28.0</td>\n",
       "      <td>SG</td>\n",
       "      <td>22.0</td>\n",
       "      <td>6-5</td>\n",
       "      <td>185.0</td>\n",
       "      <td>Georgia State</td>\n",
       "      <td>1148640.0</td>\n",
       "    </tr>\n",
       "    <tr>\n",
       "      <th>4</th>\n",
       "      <td>Jonas Jerebko</td>\n",
       "      <td>Boston Celtics</td>\n",
       "      <td>8.0</td>\n",
       "      <td>PF</td>\n",
       "      <td>29.0</td>\n",
       "      <td>6-10</td>\n",
       "      <td>231.0</td>\n",
       "      <td>NaN</td>\n",
       "      <td>5000000.0</td>\n",
       "    </tr>\n",
       "  </tbody>\n",
       "</table>\n",
       "</div>"
      ],
      "text/plain": [
       "            Name            Team  Number Position   Age Height  Weight  \\\n",
       "0  Avery Bradley  Boston Celtics     0.0       PG  25.0    6-2   180.0   \n",
       "1    Jae Crowder  Boston Celtics    99.0       SF  25.0    6-6   235.0   \n",
       "2   John Holland  Boston Celtics    30.0       SG  27.0    6-5   205.0   \n",
       "3    R.J. Hunter  Boston Celtics    28.0       SG  22.0    6-5   185.0   \n",
       "4  Jonas Jerebko  Boston Celtics     8.0       PF  29.0   6-10   231.0   \n",
       "\n",
       "             College     Salary  \n",
       "0              Texas  7730337.0  \n",
       "1          Marquette  6796117.0  \n",
       "2  Boston University        NaN  \n",
       "3      Georgia State  1148640.0  \n",
       "4                NaN  5000000.0  "
      ]
     },
     "execution_count": 7,
     "metadata": {},
     "output_type": "execute_result"
    }
   ],
   "source": [
    "import pandas as pd\n",
    "nba = pd.read_csv(\"nba.csv\")\n",
    "nba.head()"
   ]
  },
  {
   "cell_type": "code",
   "execution_count": 29,
   "metadata": {},
   "outputs": [
    {
     "name": "stdout",
     "output_type": "stream",
     "text": [
      "221.52297592997812 \n",
      " 4842684.105381166\n"
     ]
    }
   ],
   "source": [
    "weight = nba['Weight']\n",
    "salary = nba['Salary']\n",
    "weightavr = weight.mean()\n",
    "salaryavr = salary.mean()\n",
    "print(weightavr,'\\n',salaryavr)"
   ]
  },
  {
   "cell_type": "markdown",
   "metadata": {},
   "source": [
    "(2) Find the oldest 5 players listed in the file, return names of these 5 players"
   ]
  },
  {
   "cell_type": "code",
   "execution_count": 30,
   "metadata": {},
   "outputs": [
    {
     "data": {
      "text/plain": [
       "array(['Tim Duncan', 'Andre Miller', 'Kevin Garnett', 'Pablo Prigioni',\n",
       "       'Vince Carter'], dtype=object)"
      ]
     },
     "execution_count": 30,
     "metadata": {},
     "output_type": "execute_result"
    }
   ],
   "source": [
    "age = nba['Age']\n",
    "idx = age.nlargest(5).index\n",
    "nba['Name'][idx].values"
   ]
  },
  {
   "cell_type": "markdown",
   "metadata": {},
   "source": [
    "(3) Find the youngest 5 players with SG position, return names of these 5 players."
   ]
  },
  {
   "cell_type": "code",
   "execution_count": 17,
   "metadata": {},
   "outputs": [
    {
     "data": {
      "text/plain": [
       "array(['Devin Booker', 'Rashad Vaughn', 'James Young', 'Andrew Wiggins',\n",
       "       'Jordan Adams'], dtype=object)"
      ]
     },
     "execution_count": 17,
     "metadata": {},
     "output_type": "execute_result"
    }
   ],
   "source": [
    " nba[nba['Position']=='SG'].sort_values(by=['Age']).iloc[:5,0].values"
   ]
  },
  {
   "cell_type": "markdown",
   "metadata": {},
   "source": [
    "(4) Calculate the total salary of every NBA team, which team has largest salary to pay?"
   ]
  },
  {
   "cell_type": "code",
   "execution_count": 94,
   "metadata": {},
   "outputs": [
    {
     "data": {
      "text/plain": [
       "Number          217.0\n",
       "Age             443.0\n",
       "Weight         3418.0\n",
       "Salary    106988689.0\n",
       "Name: Cleveland Cavaliers, dtype: float64"
      ]
     },
     "execution_count": 94,
     "metadata": {},
     "output_type": "execute_result"
    }
   ],
   "source": [
    "team = nba.groupby('Team').sum()\n",
    "\n",
    "team = team.sort_values(\"Salary\",ascending=False)\n",
    "\n",
    "team.iloc[0]"
   ]
  },
  {
   "cell_type": "markdown",
   "metadata": {},
   "source": [
    "#### Answer:\n",
    "So the Cleveland Cavaliers has the largest salary to pay, which is 106988689.0."
   ]
  },
  {
   "cell_type": "markdown",
   "metadata": {},
   "source": [
    "(5) Filter all PF players with 26<age<30 and weight>200.0. Print any 5 rows of players \n",
    "that satisfies the requirements. (Print in Dataframes or Series format)"
   ]
  },
  {
   "cell_type": "code",
   "execution_count": 10,
   "metadata": {},
   "outputs": [
    {
     "name": "stdout",
     "output_type": "stream",
     "text": [
      "                 Name             Team  Number Position   Age Height  Weight  \\\n",
      "4       Jonas Jerebko   Boston Celtics     8.0       PF  29.0   6-10   231.0   \n",
      "5        Amir Johnson   Boston Celtics    90.0       PF  29.0    6-9   240.0   \n",
      "29     Thaddeus Young    Brooklyn Nets    30.0       PF  27.0    6-8   221.0   \n",
      "65      James Johnson  Toronto Raptors     3.0       PF  29.0    6-9   250.0   \n",
      "69  Patrick Patterson  Toronto Raptors    54.0       PF  27.0    6-9   235.0   \n",
      "\n",
      "         College      Salary  \n",
      "4            NaN   5000000.0  \n",
      "5            NaN  12000000.0  \n",
      "29  Georgia Tech  11235955.0  \n",
      "65   Wake Forest   2500000.0  \n",
      "69      Kentucky   6268675.0  \n"
     ]
    }
   ],
   "source": [
    "PFplayers = nba[nba['Position']=='PF']\n",
    "result = PFplayers[(PFplayers['Age'] > 26)&(PFplayers['Age'] < 30)&(PFplayers['Weight']>200)]\n",
    "\n",
    "print(result.head(5))"
   ]
  },
  {
   "cell_type": "markdown",
   "metadata": {},
   "source": [
    "#### 6. (2 points) Lower–upper (LU) decomposition or factorization factors a matrix as the product of a lower triangular matrix and an upper triangular matrix."
   ]
  },
  {
   "cell_type": "markdown",
   "metadata": {},
   "source": [
    "(1) Implement your own LU decomposition function for square matrix. The data type of \n",
    "input matrix can be nested list or numpy array."
   ]
  },
  {
   "cell_type": "code",
   "execution_count": 247,
   "metadata": {},
   "outputs": [],
   "source": [
    "import numpy as np\n",
    "\n",
    "def LU_decomposition(A):\n",
    "    n=len(A)\n",
    "    L = np.zeros((n,n))\n",
    "    U = np.zeros((n,n))\n",
    "    \n",
    "    \n",
    "    for i in range(n):\n",
    "        for j in range(i):\n",
    "            sum0 = 0\n",
    "            for k in range(j):\n",
    "                sum0 += L[i][k] * U[k][j]\n",
    "            L[i][j] = (A[i][j] - sum0) / U[j][j]\n",
    "        L[i][i] = 1\n",
    "        for j in range(i, n):\n",
    "            jk= 0\n",
    "            for k in range(i):\n",
    "                jk += L[i][k] * U[k][j]\n",
    "            U[i][j] = A[i][j] - jk\n",
    "    return L, U"
   ]
  },
  {
   "cell_type": "code",
   "execution_count": 248,
   "metadata": {},
   "outputs": [
    {
     "name": "stdout",
     "output_type": "stream",
     "text": [
      "(array([[1. , 0. , 0. ],\n",
      "       [3. , 1. , 0. ],\n",
      "       [7. , 3.6, 1. ]]), array([[  1.,   3.,   3.],\n",
      "       [  0.,  -5.,   0.],\n",
      "       [  0.,   0., -13.]]))\n",
      "(array([[1. , 0. , 0. ],\n",
      "       [3. , 1. , 0. ],\n",
      "       [7. , 3.6, 1. ]]), array([[  1.,   3.,   3.],\n",
      "       [  0.,  -5.,   0.],\n",
      "       [  0.,   0., -13.]]))\n"
     ]
    }
   ],
   "source": [
    "a = [[1,3,3],[3,4,9],[7,3,8]]\n",
    "b = np.array(a)\n",
    "print(LU_decomposition(a))\n",
    "print(LU_decomposition(b))"
   ]
  },
  {
   "cell_type": "markdown",
   "metadata": {},
   "source": [
    "(2) Design your own matrix inverse function that calculates the inverse matrix of input \n",
    "square matrix. It is easier to calculate the inverse matrix for lower triangular matrix \n",
    "and upper triangular matrix. So please remember to use the LU decomposition \n",
    "function in last question"
   ]
  },
  {
   "cell_type": "code",
   "execution_count": 253,
   "metadata": {},
   "outputs": [],
   "source": [
    "def TInv(matA):\n",
    "   \n",
    "    rows = matA.shape[1]\n",
    "    matL = matA.copy()\n",
    "    matInv = np.zeros((rows,rows))  \n",
    "    for row in np.arange(0,rows):\n",
    "        matInv[row,row] = 1/matL[row,row]\n",
    "        for k in np.arange(row-1,-1,-1):\n",
    "            matInv[row,k] = -(np.dot(matInv[row,k+1:row+1],matL[k+1:row+1,k]))/matL[k,k]\n",
    "            \n",
    "    return matInv\n",
    "\n",
    "\n",
    "\n",
    "def MInv(A):\n",
    "    \n",
    "    L,U = LU_decomposition(A)             \n",
    "    L_inv = TInv(L)         \n",
    "    U_inv = TInv(U.T).T    \n",
    "    \n",
    "    return np.dot(U_inv,L_inv)"
   ]
  },
  {
   "cell_type": "code",
   "execution_count": 254,
   "metadata": {},
   "outputs": [
    {
     "data": {
      "text/plain": [
       "array([[-0.25241779,  0.03384913,  0.0860735 ,  0.25145068],\n",
       "       [ 0.11508704, -0.11121857,  0.00290135,  0.03094778],\n",
       "       [ 0.1073501 , -0.00290135,  0.07833656, -0.16441006],\n",
       "       [ 0.20309478,  0.15667311, -0.23017408, -0.12185687]])"
      ]
     },
     "execution_count": 254,
     "metadata": {},
     "output_type": "execute_result"
    }
   ],
   "source": [
    "test1=np.random.randint(0,10,(4,4))\n",
    "test1inv = MInv(test1)\n",
    "test1inv"
   ]
  },
  {
   "cell_type": "markdown",
   "metadata": {},
   "source": [
    "(3) Test and verify your matrix inverse function on at least two input square matrix. \n",
    "Compare the results with numpy.linalg.inv() function. "
   ]
  },
  {
   "cell_type": "code",
   "execution_count": 255,
   "metadata": {},
   "outputs": [
    {
     "name": "stdout",
     "output_type": "stream",
     "text": [
      "[[1. 0.]\n",
      " [0. 1.]]\n",
      "[[1.  0. ]\n",
      " [0.  0.5]] \n",
      " [[1.  0. ]\n",
      " [0.  0.5]]\n"
     ]
    }
   ],
   "source": [
    "test2 =np.array([[1,0], [0,2]])\n",
    "test2inv = MInv(test2)\n",
    "a = np.dot(test2inv,test2)\n",
    "print(a)\n",
    "package = np.linalg.inv(test2)\n",
    "print(format(test2inv),'\\n', format(package))"
   ]
  },
  {
   "cell_type": "code",
   "execution_count": 259,
   "metadata": {},
   "outputs": [
    {
     "name": "stdout",
     "output_type": "stream",
     "text": [
      "[[1 0 0 0]\n",
      " [0 1 0 0]\n",
      " [0 0 0 0]\n",
      " [0 0 0 0]]\n",
      "[[ -1.69230769  -4.30769231   2.53846154   4.69230769]\n",
      " [  6.          15.          -9.         -16.        ]\n",
      " [ -4.92307692 -12.07692308   7.38461538  12.92307692]\n",
      " [  1.11538462   2.38461538  -1.42307692  -2.61538462]] \n",
      " [[ -1.69230769  -4.30769231   2.53846154   4.69230769]\n",
      " [  6.          15.          -9.         -16.        ]\n",
      " [ -4.92307692 -12.07692308   7.38461538  12.92307692]\n",
      " [  1.11538462   2.38461538  -1.42307692  -2.61538462]]\n"
     ]
    }
   ],
   "source": [
    "test3 = np.random.randint(0,10,(4,4))\n",
    "\n",
    "test3inv = MInv(test3)\n",
    "b = np.int64(np.dot(test3,test3inv))\n",
    "print(b)\n",
    "\n",
    "test3invx = np.linalg.inv(test3)\n",
    "print(test3inv,'\\n', test3invx)"
   ]
  },
  {
   "cell_type": "markdown",
   "metadata": {},
   "source": [
    "#### 7. (1 point) Design a data structure that follows the constraints of a Least Recently Used (LRU) Cache.Implement the LRU Cache Class"
   ]
  },
  {
   "cell_type": "code",
   "execution_count": 36,
   "metadata": {},
   "outputs": [],
   "source": [
    "class LRUCache:\n",
    "    def __init__(self, capacity:int):\n",
    "        self.capacity = capacity\n",
    "        self.cache = dict()\n",
    "        self.recent = None\n",
    "    \n",
    "    def get(self,key:int)->int:\n",
    "        if key in self.cache.keys():\n",
    "            self.recent = key\n",
    "            return self.cache.get(key)\n",
    "        else:\n",
    "            return -1\n",
    "    \n",
    "    def put(self,key:int, value:int)->None:\n",
    "        if len(self.cache) == self.capacity:\n",
    "            del self.cache[self.recent]\n",
    "            \n",
    "        self.cache[key] = value\n",
    "        self.recent = key\n",
    "        return None"
   ]
  },
  {
   "cell_type": "code",
   "execution_count": 46,
   "metadata": {},
   "outputs": [
    {
     "name": "stdout",
     "output_type": "stream",
     "text": [
      "cache.put(1,1) = None\n",
      "cache.put(2,2) = None\n",
      "cache.get(1) = 1\n",
      "cache.put(3,3) = None\n",
      "cache.get(2) = 2\n",
      "cache.put(4,4) = None\n",
      "cache.get(1) = -1\n",
      "cache.get(3) = 3\n",
      "cache.get(4) = 4\n"
     ]
    }
   ],
   "source": [
    "cache = LRUCache(2)\n",
    "\n",
    "\n",
    "print('cache.put(1,1) = {}'.format(cache.put(1,1)))\n",
    "print('cache.put(2,2) = {}'.format(cache.put(2,2)))\n",
    "print('cache.get(1) = {}'.format(cache.get(1)))\n",
    "print('cache.put(3,3) = {}'.format(cache.put(3,3)))\n",
    "print('cache.get(2) = {}'.format(cache.get(2)))\n",
    "print('cache.put(4,4) = {}'.format(cache.put(4,4)))\n",
    "print('cache.get(1) = {}'.format(cache.get(1)))\n",
    "print('cache.get(3) = {}'.format(cache.get(3)))\n",
    "print('cache.get(4) = {}'.format(cache.get(4)))\n"
   ]
  },
  {
   "cell_type": "markdown",
   "metadata": {},
   "source": [
    "####  8. (2 points) MovieLens 25M contains 25 million ratings and one million tag applications applied to 62,000 movies by 162,000 users. You can download it from https://files.grouplens.org/datasets/movielens/ml-25m.zip."
   ]
  },
  {
   "cell_type": "markdown",
   "metadata": {},
   "source": [
    "(1) Read “movies.csv”, “ratings.csv”, and “tags.csv” with pandas package respectively."
   ]
  },
  {
   "cell_type": "code",
   "execution_count": 17,
   "metadata": {},
   "outputs": [],
   "source": [
    "import numpy as np\n",
    "import pandas as pd\n",
    "from scipy.sparse import csr_matrix\n",
    "movies = pd.read_csv(\"movies.csv\")\n",
    "ratings = pd.read_csv(\"ratings.csv\")\n",
    "tags = pd.read_csv(\"tags.csv\")"
   ]
  },
  {
   "cell_type": "code",
   "execution_count": 3,
   "metadata": {},
   "outputs": [
    {
     "data": {
      "text/html": [
       "<div>\n",
       "<style scoped>\n",
       "    .dataframe tbody tr th:only-of-type {\n",
       "        vertical-align: middle;\n",
       "    }\n",
       "\n",
       "    .dataframe tbody tr th {\n",
       "        vertical-align: top;\n",
       "    }\n",
       "\n",
       "    .dataframe thead th {\n",
       "        text-align: right;\n",
       "    }\n",
       "</style>\n",
       "<table border=\"1\" class=\"dataframe\">\n",
       "  <thead>\n",
       "    <tr style=\"text-align: right;\">\n",
       "      <th></th>\n",
       "      <th>movieId</th>\n",
       "      <th>title</th>\n",
       "      <th>genres</th>\n",
       "    </tr>\n",
       "  </thead>\n",
       "  <tbody>\n",
       "    <tr>\n",
       "      <th>0</th>\n",
       "      <td>1</td>\n",
       "      <td>Toy Story (1995)</td>\n",
       "      <td>Adventure|Animation|Children|Comedy|Fantasy</td>\n",
       "    </tr>\n",
       "    <tr>\n",
       "      <th>1</th>\n",
       "      <td>2</td>\n",
       "      <td>Jumanji (1995)</td>\n",
       "      <td>Adventure|Children|Fantasy</td>\n",
       "    </tr>\n",
       "  </tbody>\n",
       "</table>\n",
       "</div>"
      ],
      "text/plain": [
       "   movieId             title                                       genres\n",
       "0        1  Toy Story (1995)  Adventure|Animation|Children|Comedy|Fantasy\n",
       "1        2    Jumanji (1995)                   Adventure|Children|Fantasy"
      ]
     },
     "execution_count": 3,
     "metadata": {},
     "output_type": "execute_result"
    }
   ],
   "source": [
    "movies.head(2)"
   ]
  },
  {
   "cell_type": "code",
   "execution_count": 4,
   "metadata": {},
   "outputs": [
    {
     "data": {
      "text/html": [
       "<div>\n",
       "<style scoped>\n",
       "    .dataframe tbody tr th:only-of-type {\n",
       "        vertical-align: middle;\n",
       "    }\n",
       "\n",
       "    .dataframe tbody tr th {\n",
       "        vertical-align: top;\n",
       "    }\n",
       "\n",
       "    .dataframe thead th {\n",
       "        text-align: right;\n",
       "    }\n",
       "</style>\n",
       "<table border=\"1\" class=\"dataframe\">\n",
       "  <thead>\n",
       "    <tr style=\"text-align: right;\">\n",
       "      <th></th>\n",
       "      <th>userId</th>\n",
       "      <th>movieId</th>\n",
       "      <th>rating</th>\n",
       "      <th>timestamp</th>\n",
       "    </tr>\n",
       "  </thead>\n",
       "  <tbody>\n",
       "    <tr>\n",
       "      <th>0</th>\n",
       "      <td>1</td>\n",
       "      <td>296</td>\n",
       "      <td>5.0</td>\n",
       "      <td>1.147880e+09</td>\n",
       "    </tr>\n",
       "    <tr>\n",
       "      <th>1</th>\n",
       "      <td>1</td>\n",
       "      <td>306</td>\n",
       "      <td>3.5</td>\n",
       "      <td>1.147869e+09</td>\n",
       "    </tr>\n",
       "  </tbody>\n",
       "</table>\n",
       "</div>"
      ],
      "text/plain": [
       "   userId  movieId  rating     timestamp\n",
       "0       1      296     5.0  1.147880e+09\n",
       "1       1      306     3.5  1.147869e+09"
      ]
     },
     "execution_count": 4,
     "metadata": {},
     "output_type": "execute_result"
    }
   ],
   "source": [
    "ratings.head(2)"
   ]
  },
  {
   "cell_type": "code",
   "execution_count": 5,
   "metadata": {},
   "outputs": [
    {
     "data": {
      "text/html": [
       "<div>\n",
       "<style scoped>\n",
       "    .dataframe tbody tr th:only-of-type {\n",
       "        vertical-align: middle;\n",
       "    }\n",
       "\n",
       "    .dataframe tbody tr th {\n",
       "        vertical-align: top;\n",
       "    }\n",
       "\n",
       "    .dataframe thead th {\n",
       "        text-align: right;\n",
       "    }\n",
       "</style>\n",
       "<table border=\"1\" class=\"dataframe\">\n",
       "  <thead>\n",
       "    <tr style=\"text-align: right;\">\n",
       "      <th></th>\n",
       "      <th>userId</th>\n",
       "      <th>movieId</th>\n",
       "      <th>tag</th>\n",
       "      <th>timestamp</th>\n",
       "    </tr>\n",
       "  </thead>\n",
       "  <tbody>\n",
       "    <tr>\n",
       "      <th>0</th>\n",
       "      <td>3</td>\n",
       "      <td>260</td>\n",
       "      <td>classic</td>\n",
       "      <td>1439472355</td>\n",
       "    </tr>\n",
       "    <tr>\n",
       "      <th>1</th>\n",
       "      <td>3</td>\n",
       "      <td>260</td>\n",
       "      <td>sci-fi</td>\n",
       "      <td>1439472256</td>\n",
       "    </tr>\n",
       "    <tr>\n",
       "      <th>2</th>\n",
       "      <td>4</td>\n",
       "      <td>1732</td>\n",
       "      <td>dark comedy</td>\n",
       "      <td>1573943598</td>\n",
       "    </tr>\n",
       "    <tr>\n",
       "      <th>3</th>\n",
       "      <td>4</td>\n",
       "      <td>1732</td>\n",
       "      <td>great dialogue</td>\n",
       "      <td>1573943604</td>\n",
       "    </tr>\n",
       "    <tr>\n",
       "      <th>4</th>\n",
       "      <td>4</td>\n",
       "      <td>7569</td>\n",
       "      <td>so bad it's good</td>\n",
       "      <td>1573943455</td>\n",
       "    </tr>\n",
       "    <tr>\n",
       "      <th>5</th>\n",
       "      <td>4</td>\n",
       "      <td>44665</td>\n",
       "      <td>unreliable narrators</td>\n",
       "      <td>1573943619</td>\n",
       "    </tr>\n",
       "    <tr>\n",
       "      <th>6</th>\n",
       "      <td>4</td>\n",
       "      <td>115569</td>\n",
       "      <td>tense</td>\n",
       "      <td>1573943077</td>\n",
       "    </tr>\n",
       "    <tr>\n",
       "      <th>7</th>\n",
       "      <td>4</td>\n",
       "      <td>115713</td>\n",
       "      <td>artificial intelligence</td>\n",
       "      <td>1573942979</td>\n",
       "    </tr>\n",
       "    <tr>\n",
       "      <th>8</th>\n",
       "      <td>4</td>\n",
       "      <td>115713</td>\n",
       "      <td>philosophical</td>\n",
       "      <td>1573943033</td>\n",
       "    </tr>\n",
       "    <tr>\n",
       "      <th>9</th>\n",
       "      <td>4</td>\n",
       "      <td>115713</td>\n",
       "      <td>tense</td>\n",
       "      <td>1573943042</td>\n",
       "    </tr>\n",
       "  </tbody>\n",
       "</table>\n",
       "</div>"
      ],
      "text/plain": [
       "   userId  movieId                      tag   timestamp\n",
       "0       3      260                  classic  1439472355\n",
       "1       3      260                   sci-fi  1439472256\n",
       "2       4     1732              dark comedy  1573943598\n",
       "3       4     1732           great dialogue  1573943604\n",
       "4       4     7569         so bad it's good  1573943455\n",
       "5       4    44665     unreliable narrators  1573943619\n",
       "6       4   115569                    tense  1573943077\n",
       "7       4   115713  artificial intelligence  1573942979\n",
       "8       4   115713            philosophical  1573943033\n",
       "9       4   115713                    tense  1573943042"
      ]
     },
     "execution_count": 5,
     "metadata": {},
     "output_type": "execute_result"
    }
   ],
   "source": [
    "tags.head(10)"
   ]
  },
  {
   "cell_type": "markdown",
   "metadata": {},
   "source": [
    "(2) Use pandas to analyze how many different values are in the above three groups of data."
   ]
  },
  {
   "cell_type": "code",
   "execution_count": 9,
   "metadata": {},
   "outputs": [],
   "source": [
    "def differentvalues(data):\n",
    "    for i in data.columns:\n",
    "        number = data[i].value_counts(dropna=True).shape[0]\n",
    "        print('The number of different values of {} is {}'.format(i,number))"
   ]
  },
  {
   "cell_type": "code",
   "execution_count": 14,
   "metadata": {},
   "outputs": [
    {
     "name": "stdout",
     "output_type": "stream",
     "text": [
      "movies:\n",
      "The number of different values of movieId is 62423\n",
      "The number of different values of title is 62325\n",
      "The number of different values of genres is 1639\n",
      "None\n",
      "ratings:\n",
      "The number of different values of userId is 8814\n",
      "The number of different values of movieId is 23648\n",
      "The number of different values of rating is 10\n",
      "The number of different values of timestamp is 1070852\n",
      "None\n",
      "tags:\n",
      "The number of different values of userId is 14592\n",
      "The number of different values of movieId is 45251\n",
      "The number of different values of tag is 73050\n",
      "The number of different values of timestamp is 907730\n",
      "None\n"
     ]
    }
   ],
   "source": [
    "print('movies:')\n",
    "print(differentvalues(movies))\n",
    "print('ratings:')\n",
    "print(differentvalues(ratings))\n",
    "print('tags:')\n",
    "print(differentvalues(tags))"
   ]
  },
  {
   "cell_type": "markdown",
   "metadata": {},
   "source": [
    "(3) Count the number of times each tag is applied to each movie. You should return a \n",
    "DataFrame object, whose information contains “movieId”, “tag” and “count”"
   ]
  },
  {
   "cell_type": "code",
   "execution_count": 15,
   "metadata": {},
   "outputs": [
    {
     "data": {
      "text/html": [
       "<div>\n",
       "<style scoped>\n",
       "    .dataframe tbody tr th:only-of-type {\n",
       "        vertical-align: middle;\n",
       "    }\n",
       "\n",
       "    .dataframe tbody tr th {\n",
       "        vertical-align: top;\n",
       "    }\n",
       "\n",
       "    .dataframe thead th {\n",
       "        text-align: right;\n",
       "    }\n",
       "</style>\n",
       "<table border=\"1\" class=\"dataframe\">\n",
       "  <thead>\n",
       "    <tr style=\"text-align: right;\">\n",
       "      <th></th>\n",
       "      <th>movieId</th>\n",
       "      <th>tag</th>\n",
       "      <th>count</th>\n",
       "    </tr>\n",
       "  </thead>\n",
       "  <tbody>\n",
       "    <tr>\n",
       "      <th>0</th>\n",
       "      <td>1</td>\n",
       "      <td>animation</td>\n",
       "      <td>72</td>\n",
       "    </tr>\n",
       "    <tr>\n",
       "      <th>1</th>\n",
       "      <td>1</td>\n",
       "      <td>Pixar</td>\n",
       "      <td>70</td>\n",
       "    </tr>\n",
       "    <tr>\n",
       "      <th>2</th>\n",
       "      <td>1</td>\n",
       "      <td>pixar</td>\n",
       "      <td>44</td>\n",
       "    </tr>\n",
       "    <tr>\n",
       "      <th>3</th>\n",
       "      <td>1</td>\n",
       "      <td>Disney</td>\n",
       "      <td>42</td>\n",
       "    </tr>\n",
       "    <tr>\n",
       "      <th>4</th>\n",
       "      <td>1</td>\n",
       "      <td>Tom Hanks</td>\n",
       "      <td>31</td>\n",
       "    </tr>\n",
       "    <tr>\n",
       "      <th>...</th>\n",
       "      <td>...</td>\n",
       "      <td>...</td>\n",
       "      <td>...</td>\n",
       "    </tr>\n",
       "    <tr>\n",
       "      <th>472842</th>\n",
       "      <td>209063</td>\n",
       "      <td>independent school</td>\n",
       "      <td>1</td>\n",
       "    </tr>\n",
       "    <tr>\n",
       "      <th>472843</th>\n",
       "      <td>209063</td>\n",
       "      <td>private school</td>\n",
       "      <td>1</td>\n",
       "    </tr>\n",
       "    <tr>\n",
       "      <th>472844</th>\n",
       "      <td>209063</td>\n",
       "      <td>quaker</td>\n",
       "      <td>1</td>\n",
       "    </tr>\n",
       "    <tr>\n",
       "      <th>472845</th>\n",
       "      <td>209063</td>\n",
       "      <td>racism</td>\n",
       "      <td>1</td>\n",
       "    </tr>\n",
       "    <tr>\n",
       "      <th>472846</th>\n",
       "      <td>209063</td>\n",
       "      <td>thought-provoking</td>\n",
       "      <td>1</td>\n",
       "    </tr>\n",
       "  </tbody>\n",
       "</table>\n",
       "<p>472847 rows × 3 columns</p>\n",
       "</div>"
      ],
      "text/plain": [
       "        movieId                 tag  count\n",
       "0             1           animation     72\n",
       "1             1               Pixar     70\n",
       "2             1               pixar     44\n",
       "3             1              Disney     42\n",
       "4             1           Tom Hanks     31\n",
       "...         ...                 ...    ...\n",
       "472842   209063  independent school      1\n",
       "472843   209063      private school      1\n",
       "472844   209063              quaker      1\n",
       "472845   209063              racism      1\n",
       "472846   209063   thought-provoking      1\n",
       "\n",
       "[472847 rows x 3 columns]"
      ]
     },
     "execution_count": 15,
     "metadata": {},
     "output_type": "execute_result"
    }
   ],
   "source": [
    "grouped = tags.groupby('movieId')['tag'].value_counts()\n",
    "a =pd.DataFrame.from_records(grouped.index,columns=['movieId','tag'])\n",
    "b =pd.DataFrame(grouped.values,columns=['count'])\n",
    "tagcounts = pd.concat([a,b],axis=1,names=['movieId','tag','count'])\n",
    "tagcounts"
   ]
  },
  {
   "cell_type": "markdown",
   "metadata": {},
   "source": [
    "(4) Use scipy.sparse.csr_matrix to construct a compressed sparse row matrix whose rows \n",
    "are movies, columns are tags, and values are the number of times that tag has been \n",
    "applied to that movie."
   ]
  },
  {
   "cell_type": "code",
   "execution_count": 18,
   "metadata": {},
   "outputs": [
    {
     "data": {
      "text/plain": [
       "<45251x73050 sparse matrix of type '<class 'numpy.int64'>'\n",
       "\twith 472847 stored elements in Compressed Sparse Row format>"
      ]
     },
     "execution_count": 18,
     "metadata": {},
     "output_type": "execute_result"
    }
   ],
   "source": [
    "row = np.array(tagcounts['movieId'].astype('category').cat.codes)\n",
    "\n",
    "col = np.array(tagcounts['tag'].astype('category').cat.codes)\n",
    "data = np.array(tagcounts['count'])\n",
    "m = tags['movieId'].value_counts(dropna=True).shape[0]\n",
    "n = tags['tag'].value_counts(dropna=True).shape[0]\n",
    "\n",
    "csr_matrix((data, (row, col)), shape=(m, n))"
   ]
  },
  {
   "cell_type": "markdown",
   "metadata": {},
   "source": [
    "#### 9. (3 points) In this question, you will use pandas and matplotlib to analyze data from the American Community Survey 2010–2012 Public Use Microdata Sample"
   ]
  },
  {
   "cell_type": "code",
   "execution_count": 2,
   "metadata": {},
   "outputs": [],
   "source": [
    "import pandas as pd\n",
    "fn = 'https://raw.githubusercontent.com/fivethirtyeight/data/master/college-majors/recent-grads.csv'\n",
    "data = pd.read_csv(fn)"
   ]
  },
  {
   "cell_type": "code",
   "execution_count": 3,
   "metadata": {},
   "outputs": [
    {
     "data": {
      "text/html": [
       "<div>\n",
       "<style scoped>\n",
       "    .dataframe tbody tr th:only-of-type {\n",
       "        vertical-align: middle;\n",
       "    }\n",
       "\n",
       "    .dataframe tbody tr th {\n",
       "        vertical-align: top;\n",
       "    }\n",
       "\n",
       "    .dataframe thead th {\n",
       "        text-align: right;\n",
       "    }\n",
       "</style>\n",
       "<table border=\"1\" class=\"dataframe\">\n",
       "  <thead>\n",
       "    <tr style=\"text-align: right;\">\n",
       "      <th></th>\n",
       "      <th>Rank</th>\n",
       "      <th>Major_code</th>\n",
       "      <th>Major</th>\n",
       "      <th>Total</th>\n",
       "      <th>Men</th>\n",
       "      <th>Women</th>\n",
       "      <th>Major_category</th>\n",
       "      <th>ShareWomen</th>\n",
       "      <th>Sample_size</th>\n",
       "      <th>Employed</th>\n",
       "      <th>...</th>\n",
       "      <th>Part_time</th>\n",
       "      <th>Full_time_year_round</th>\n",
       "      <th>Unemployed</th>\n",
       "      <th>Unemployment_rate</th>\n",
       "      <th>Median</th>\n",
       "      <th>P25th</th>\n",
       "      <th>P75th</th>\n",
       "      <th>College_jobs</th>\n",
       "      <th>Non_college_jobs</th>\n",
       "      <th>Low_wage_jobs</th>\n",
       "    </tr>\n",
       "  </thead>\n",
       "  <tbody>\n",
       "    <tr>\n",
       "      <th>0</th>\n",
       "      <td>1</td>\n",
       "      <td>2419</td>\n",
       "      <td>PETROLEUM ENGINEERING</td>\n",
       "      <td>2339.0</td>\n",
       "      <td>2057.0</td>\n",
       "      <td>282.0</td>\n",
       "      <td>Engineering</td>\n",
       "      <td>0.120564</td>\n",
       "      <td>36</td>\n",
       "      <td>1976</td>\n",
       "      <td>...</td>\n",
       "      <td>270</td>\n",
       "      <td>1207</td>\n",
       "      <td>37</td>\n",
       "      <td>0.018381</td>\n",
       "      <td>110000</td>\n",
       "      <td>95000</td>\n",
       "      <td>125000</td>\n",
       "      <td>1534</td>\n",
       "      <td>364</td>\n",
       "      <td>193</td>\n",
       "    </tr>\n",
       "    <tr>\n",
       "      <th>1</th>\n",
       "      <td>2</td>\n",
       "      <td>2416</td>\n",
       "      <td>MINING AND MINERAL ENGINEERING</td>\n",
       "      <td>756.0</td>\n",
       "      <td>679.0</td>\n",
       "      <td>77.0</td>\n",
       "      <td>Engineering</td>\n",
       "      <td>0.101852</td>\n",
       "      <td>7</td>\n",
       "      <td>640</td>\n",
       "      <td>...</td>\n",
       "      <td>170</td>\n",
       "      <td>388</td>\n",
       "      <td>85</td>\n",
       "      <td>0.117241</td>\n",
       "      <td>75000</td>\n",
       "      <td>55000</td>\n",
       "      <td>90000</td>\n",
       "      <td>350</td>\n",
       "      <td>257</td>\n",
       "      <td>50</td>\n",
       "    </tr>\n",
       "    <tr>\n",
       "      <th>2</th>\n",
       "      <td>3</td>\n",
       "      <td>2415</td>\n",
       "      <td>METALLURGICAL ENGINEERING</td>\n",
       "      <td>856.0</td>\n",
       "      <td>725.0</td>\n",
       "      <td>131.0</td>\n",
       "      <td>Engineering</td>\n",
       "      <td>0.153037</td>\n",
       "      <td>3</td>\n",
       "      <td>648</td>\n",
       "      <td>...</td>\n",
       "      <td>133</td>\n",
       "      <td>340</td>\n",
       "      <td>16</td>\n",
       "      <td>0.024096</td>\n",
       "      <td>73000</td>\n",
       "      <td>50000</td>\n",
       "      <td>105000</td>\n",
       "      <td>456</td>\n",
       "      <td>176</td>\n",
       "      <td>0</td>\n",
       "    </tr>\n",
       "    <tr>\n",
       "      <th>3</th>\n",
       "      <td>4</td>\n",
       "      <td>2417</td>\n",
       "      <td>NAVAL ARCHITECTURE AND MARINE ENGINEERING</td>\n",
       "      <td>1258.0</td>\n",
       "      <td>1123.0</td>\n",
       "      <td>135.0</td>\n",
       "      <td>Engineering</td>\n",
       "      <td>0.107313</td>\n",
       "      <td>16</td>\n",
       "      <td>758</td>\n",
       "      <td>...</td>\n",
       "      <td>150</td>\n",
       "      <td>692</td>\n",
       "      <td>40</td>\n",
       "      <td>0.050125</td>\n",
       "      <td>70000</td>\n",
       "      <td>43000</td>\n",
       "      <td>80000</td>\n",
       "      <td>529</td>\n",
       "      <td>102</td>\n",
       "      <td>0</td>\n",
       "    </tr>\n",
       "    <tr>\n",
       "      <th>4</th>\n",
       "      <td>5</td>\n",
       "      <td>2405</td>\n",
       "      <td>CHEMICAL ENGINEERING</td>\n",
       "      <td>32260.0</td>\n",
       "      <td>21239.0</td>\n",
       "      <td>11021.0</td>\n",
       "      <td>Engineering</td>\n",
       "      <td>0.341631</td>\n",
       "      <td>289</td>\n",
       "      <td>25694</td>\n",
       "      <td>...</td>\n",
       "      <td>5180</td>\n",
       "      <td>16697</td>\n",
       "      <td>1672</td>\n",
       "      <td>0.061098</td>\n",
       "      <td>65000</td>\n",
       "      <td>50000</td>\n",
       "      <td>75000</td>\n",
       "      <td>18314</td>\n",
       "      <td>4440</td>\n",
       "      <td>972</td>\n",
       "    </tr>\n",
       "  </tbody>\n",
       "</table>\n",
       "<p>5 rows × 21 columns</p>\n",
       "</div>"
      ],
      "text/plain": [
       "   Rank  Major_code                                      Major    Total  \\\n",
       "0     1        2419                      PETROLEUM ENGINEERING   2339.0   \n",
       "1     2        2416             MINING AND MINERAL ENGINEERING    756.0   \n",
       "2     3        2415                  METALLURGICAL ENGINEERING    856.0   \n",
       "3     4        2417  NAVAL ARCHITECTURE AND MARINE ENGINEERING   1258.0   \n",
       "4     5        2405                       CHEMICAL ENGINEERING  32260.0   \n",
       "\n",
       "       Men    Women Major_category  ShareWomen  Sample_size  Employed  ...  \\\n",
       "0   2057.0    282.0    Engineering    0.120564           36      1976  ...   \n",
       "1    679.0     77.0    Engineering    0.101852            7       640  ...   \n",
       "2    725.0    131.0    Engineering    0.153037            3       648  ...   \n",
       "3   1123.0    135.0    Engineering    0.107313           16       758  ...   \n",
       "4  21239.0  11021.0    Engineering    0.341631          289     25694  ...   \n",
       "\n",
       "   Part_time  Full_time_year_round  Unemployed  Unemployment_rate  Median  \\\n",
       "0        270                  1207          37           0.018381  110000   \n",
       "1        170                   388          85           0.117241   75000   \n",
       "2        133                   340          16           0.024096   73000   \n",
       "3        150                   692          40           0.050125   70000   \n",
       "4       5180                 16697        1672           0.061098   65000   \n",
       "\n",
       "   P25th   P75th  College_jobs  Non_college_jobs  Low_wage_jobs  \n",
       "0  95000  125000          1534               364            193  \n",
       "1  55000   90000           350               257             50  \n",
       "2  50000  105000           456               176              0  \n",
       "3  43000   80000           529               102              0  \n",
       "4  50000   75000         18314              4440            972  \n",
       "\n",
       "[5 rows x 21 columns]"
      ]
     },
     "execution_count": 3,
     "metadata": {},
     "output_type": "execute_result"
    }
   ],
   "source": [
    "data.head()"
   ]
  },
  {
   "cell_type": "markdown",
   "metadata": {},
   "source": [
    "(2)Please use matplotlib to analyze the relationship between the major’s rank and\n",
    "the workers’ median earnings, the 1/4 of earnings of the major field, and the 3/4\n",
    "of earnings of the major field. Describe your conclusion in detail. You should\n",
    "put all plots in 1 figure."
   ]
  },
  {
   "cell_type": "code",
   "execution_count": 4,
   "metadata": {},
   "outputs": [],
   "source": [
    "import matplotlib.pyplot as plt"
   ]
  },
  {
   "cell_type": "code",
   "execution_count": 5,
   "metadata": {},
   "outputs": [
    {
     "data": {
      "text/plain": [
       "<matplotlib.legend.Legend at 0x2083f916130>"
      ]
     },
     "execution_count": 5,
     "metadata": {},
     "output_type": "execute_result"
    },
    {
     "data": {
      "image/png": "[encoded data removed]",
      "text/plain": [
       "<Figure size 432x288 with 1 Axes>"
      ]
     },
     "metadata": {
      "needs_background": "light"
     },
     "output_type": "display_data"
    }
   ],
   "source": [
    "for value in ['Median','P25th','P75th']:\n",
    "    plt.plot(data['Rank'],data[value],label= value)\n",
    "plt.legend()"
   ]
  },
  {
   "cell_type": "markdown",
   "metadata": {},
   "source": [
    "#### Answer:\n",
    "The median, 1/4 and 3/4 earnings decreases as the rank increases. And the 3/4 earnings is larger than median, the median is larger than1/4. At the extreme situation, rank =0 and rank =175, the differences among the three earnings is small. Besides, the volitility of P25th and P75th are both higher than the Median.\n"
   ]
  },
  {
   "cell_type": "markdown",
   "metadata": {},
   "source": [
    "(3) A frequency distribution shows how often each different value in a set of data occurs. \n",
    "A histogram is the most commonly used graph to show frequency distributions. Please \n",
    "use the histogram to analyze workers’ median earnings and describe your conclusion \n",
    "in detail."
   ]
  },
  {
   "cell_type": "code",
   "execution_count": 6,
   "metadata": {},
   "outputs": [
    {
     "data": {
      "image/png": "[encoded data removed]",
      "text/plain": [
       "<Figure size 432x288 with 1 Axes>"
      ]
     },
     "metadata": {
      "needs_background": "light"
     },
     "output_type": "display_data"
    }
   ],
   "source": [
    "plt.hist(data['Median'],bins=50)\n",
    "plt.xlabel('Median Earnings')\n",
    "plt.ylabel('Frequency')\n",
    "plt.show()"
   ]
  },
  {
   "cell_type": "markdown",
   "metadata": {},
   "source": [
    "(4) Please show the majors (shown in the “Major” column) with the top six median \n",
    "salaries using a bar plot."
   ]
  },
  {
   "cell_type": "code",
   "execution_count": 21,
   "metadata": {},
   "outputs": [
    {
     "data": {
      "image/png": "[encoded data removed]",
      "text/plain": [
       "<Figure size 432x288 with 1 Axes>"
      ]
     },
     "metadata": {
      "needs_background": "light"
     },
     "output_type": "display_data"
    }
   ],
   "source": [
    "topsixmedian = data.sort_values('Median',ascending = False)[0:6]\n",
    "\n",
    "plt.bar(topsixmedian['Major'],topsixmedian['Median'])\n",
    "plt.xlabel('Majors')\n",
    "plt.ylabel('Median')\n",
    "plt.show()"
   ]
  },
  {
   "cell_type": "markdown",
   "metadata": {},
   "source": [
    "#### (5) Please sum the total (shown in the “Total” column) of each major category (shown in the “Major_category” column) using pandas. Then you should divide those with a total amount of more than 120000 into one group and those with a total amount of less than 120000 into another group. Finally, please draw pie charts to analyze the proportion of the total amount of different major categories in each group"
   ]
  },
  {
   "cell_type": "code",
   "execution_count": 24,
   "metadata": {},
   "outputs": [],
   "source": [
    "data_group = (data.groupby(['Major_category']).sum())\n",
    "data_group_more  =data_group[data_group['Total']>120000]\n",
    "data_group_less =data_group[data_group['Total']<120000]\n"
   ]
  },
  {
   "cell_type": "code",
   "execution_count": 25,
   "metadata": {},
   "outputs": [
    {
     "data": {
      "text/plain": [
       "<AxesSubplot:ylabel='Total'>"
      ]
     },
     "execution_count": 25,
     "metadata": {},
     "output_type": "execute_result"
    },
    {
     "data": {
      "image/png": "[encoded data removed]",
      "text/plain": [
       "<Figure size 432x288 with 1 Axes>"
      ]
     },
     "metadata": {},
     "output_type": "display_data"
    }
   ],
   "source": [
    "data_group_more['Total'].plot.pie(autopct='%1.1f%%')"
   ]
  },
  {
   "cell_type": "code",
   "execution_count": 26,
   "metadata": {},
   "outputs": [
    {
     "data": {
      "text/plain": [
       "<AxesSubplot:ylabel='Total'>"
      ]
     },
     "execution_count": 26,
     "metadata": {},
     "output_type": "execute_result"
    },
    {
     "data": {
      "image/png": "[encoded data removed]",
      "text/plain": [
       "<Figure size 432x288 with 1 Axes>"
      ]
     },
     "metadata": {},
     "output_type": "display_data"
    }
   ],
   "source": [
    "data_group_less['Total'].plot.pie(autopct='%1.1f%%')"
   ]
  },
  {
   "cell_type": "markdown",
   "metadata": {},
   "source": [
    "#### Answer:\n",
    "In the first graph, it represents the group that Total>12000, Business's propotion is the largest which is 19.5%, Humanities&Liberal is the second highest 10.7%.\n",
    "\n",
    "In the second one,the Agriculture & Natural Resources is 86%, occupies the most propotion ,much larger than the one of Interdisciplinary which is 14%.\n",
    "\n"
   ]
  },
  {
   "cell_type": "code",
   "execution_count": null,
   "metadata": {},
   "outputs": [],
   "source": []
  }
 ],
 "metadata": {
  "kernelspec": {
   "display_name": "Python 3",
   "language": "python",
   "name": "python3"
  },
  "language_info": {
   "codemirror_mode": {
    "name": "ipython",
    "version": 3
   },
   "file_extension": ".py",
   "mimetype": "text/x-python",
   "name": "python",
   "nbconvert_exporter": "python",
   "pygments_lexer": "ipython3",
   "version": "3.8.5"
  }
 },
 "nbformat": 4,
 "nbformat_minor": 4
}
