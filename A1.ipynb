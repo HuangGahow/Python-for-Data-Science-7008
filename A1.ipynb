{
 "cells": [
  {
   "cell_type": "markdown",
   "metadata": {},
   "source": [
    "# Assignment 1\n",
    "\n",
    "Author: Huang Jiahao\n",
    "\n",
    "Date:2022/9/24"
   ]
  },
  {
   "cell_type": "markdown",
   "metadata": {},
   "source": [
    "## Basic concepts\n",
    "### 1. \n",
    "Please explain the meaning of mutable and immutable objects in your own\n",
    "words. Which objects are mutable? Which ones are not? Write down your own Python \n",
    "snippets in a .ipynb file to verify your answer."
   ]
  },
  {
   "cell_type": "markdown",
   "metadata": {},
   "source": [
    "#### Answer:\n",
    "\n",
    "Immutable objects means that when change value of variable, a new object is created, the reference will be updated but the original object still exist.\n",
    "\n",
    "Mutable objects means that after changing value of variable, a new object will replace the original object. The reference will stay the same.\n",
    "\n",
    "int, float, bool, str, tuple are immutable.\n",
    "\n",
    "list, set, dict are mutable"
   ]
  },
  {
   "cell_type": "code",
   "execution_count": 1,
   "metadata": {},
   "outputs": [
    {
     "name": "stdout",
     "output_type": "stream",
     "text": [
      "a 140709741143840 1\n",
      "a 140709741143872 2\n",
      "b 140709740861264 True\n",
      "b 140709740861296 False\n",
      "c 1530829319664 Kitty\n",
      "c 1530829319152 Kit\n",
      "t 1530828932800 ('i', 10, True)\n",
      "t 1530828934336 ('i', 9, True)\n",
      "d 1530829146176 [2, 3, 4]\n",
      "d 1530829146176 [2, 3, 5]\n",
      "e 1530828782272 {3, 4, 5}\n",
      "e 1530828782720 {2, 3, 5}\n",
      "f 1530829400256 {'sk': 1, 'jb': 2}\n",
      "f 1530829400256 {'sk': 'k', 'jb': 2}\n"
     ]
    }
   ],
   "source": [
    "def immutable():\n",
    "    a = 1  #int\n",
    "    print(\"a\",id(a),a)\n",
    "    a = 2\n",
    "    print(\"a\",id(a),a)\n",
    "    b = True #bool \n",
    "    print(\"b\",id(b),b)\n",
    "    b = False\n",
    "    print(\"b\",id(b),b)\n",
    "    c = \"Kitty\" #str\n",
    "    print(\"c\",id(c),c)\n",
    "    c = \"Kit\"\n",
    "    print(\"c\",id(c),c)\n",
    "    t = ('i',10, True)\n",
    "    print(\"t\",id(t),t)\n",
    "    t = ('i',9, True)\n",
    "    print(\"t\",id(t),t)\n",
    "immutable()\n",
    "def mutable():\n",
    "    d = [2,3,4] #list\n",
    "    print(\"d\",id(d),d)\n",
    "    d[2] = 5\n",
    "    print(\"d\",id(d),d)\n",
    "    e = {3,4,5,5} #set\n",
    "    print(\"e\",id(e),e)\n",
    "    e = {3,2,5}\n",
    "    print(\"e\",id(e),e)\n",
    "    f = {'sk':1,'jb':2} #dict\n",
    "    print(\"f\",id(f),f)\n",
    "    f['sk'] = \"k\"\n",
    "    print(\"f\",id(f),f)\n",
    "mutable()"
   ]
  },
  {
   "cell_type": "markdown",
   "metadata": {},
   "source": [
    "## 2. \n",
    "(0.5 points) Please explain the meaning of global and local variables in your own words. \n",
    "Write down your own Python snippets in a .ipynb file to distinguish them, covering all \n",
    "circumstances (give at least 3 confusing settings)\n",
    "\n",
    "#### Answer:\n",
    "\n",
    "Local variables means variables declares inside some functions, including some input arguments. After functions end, local variables dissapear.\n",
    "\n",
    "Global variables means variables declares outside functions, the variable is efficient to all functions in program. After functions end, they will still exist.\n",
    "\n"
   ]
  },
  {
   "cell_type": "markdown",
   "metadata": {},
   "source": [
    "1. local variable disappear when function ends & Global variable can be used among different functions"
   ]
  },
  {
   "cell_type": "markdown",
   "metadata": {},
   "source": [
    "2. Local variable can be defined in distinct ways/values for different functions. When accessing the previous local variable, it is necessary to be defined again as new variable even with same name."
   ]
  },
  {
   "cell_type": "code",
   "execution_count": 2,
   "metadata": {},
   "outputs": [
    {
     "ename": "NameError",
     "evalue": "name 'q2test2' is not defined",
     "output_type": "error",
     "traceback": [
      "\u001b[1;31m---------------------------------------------------------------------------\u001b[0m",
      "\u001b[1;31mNameError\u001b[0m                                 Traceback (most recent call last)",
      "\u001b[1;32m<ipython-input-2-24036a4938ec>\u001b[0m in \u001b[0;36m<module>\u001b[1;34m\u001b[0m\n\u001b[0;32m     12\u001b[0m     \u001b[0mprint\u001b[0m\u001b[1;33m(\u001b[0m\u001b[1;34m\"k =\"\u001b[0m\u001b[1;33m,\u001b[0m\u001b[0mk\u001b[0m\u001b[1;33m)\u001b[0m\u001b[1;33m\u001b[0m\u001b[1;33m\u001b[0m\u001b[0m\n\u001b[0;32m     13\u001b[0m \u001b[1;33m\u001b[0m\u001b[0m\n\u001b[1;32m---> 14\u001b[1;33m \u001b[0mq2test2\u001b[0m\u001b[1;33m(\u001b[0m\u001b[1;33m)\u001b[0m\u001b[1;33m\u001b[0m\u001b[1;33m\u001b[0m\u001b[0m\n\u001b[0m\u001b[0;32m     15\u001b[0m \u001b[0mquantity\u001b[0m \u001b[1;31m# After q2test2() ends, local variable quantity dissapeared.\u001b[0m\u001b[1;33m\u001b[0m\u001b[1;33m\u001b[0m\u001b[0m\n",
      "\u001b[1;31mNameError\u001b[0m: name 'q2test2' is not defined"
     ]
    }
   ],
   "source": [
    "k = 999\n",
    "\n",
    "def number1(n):\n",
    "    n = n**2\n",
    "    return(n)\n",
    "\n",
    "def q2test():\n",
    "    quantity =100;\n",
    "    print(\"quantity =\",quantity)\n",
    "    quantity = number1(quantity)\n",
    "    print(\"new quantity =\",quantity)\n",
    "    print(\"k =\",k)\n",
    "    \n",
    "q2test2()\n",
    "quantity # After q2test2() ends, local variable quantity dissapeared."
   ]
  },
  {
   "cell_type": "markdown",
   "metadata": {},
   "source": [
    "3. Global variable can be described as outside functions or using the keyword global"
   ]
  },
  {
   "cell_type": "code",
   "execution_count": 3,
   "metadata": {},
   "outputs": [
    {
     "name": "stdout",
     "output_type": "stream",
     "text": [
      "local a =: 11\n",
      "global a =: 10\n",
      "global a =: 10\n"
     ]
    }
   ],
   "source": [
    "a = 10\n",
    "def q2test1():\n",
    "    a = 11\n",
    "    return a\n",
    "print('local a =:', q2test1()) #In this function a equals to input value, a is local variable.\n",
    "print('global a =:', a) #After q2test1() ends, local variable a dissapeared, global variable a take effect.\n",
    "\n",
    "def q2test2():\n",
    "    global a\n",
    "    return a\n",
    "print('global a =:', q2test2())"
   ]
  },
  {
   "cell_type": "markdown",
   "metadata": {},
   "source": [
    "## 3.\n",
    "(0.5 points) Please explain all loop control statements including ‘break’, ‘continue’ and \n",
    "‘pass’ in your own word, especially their difference. Write down your own Python snippets \n",
    "in a .ipynb file to distinguish their different usage in loop control"
   ]
  },
  {
   "cell_type": "code",
   "execution_count": 4,
   "metadata": {},
   "outputs": [
    {
     "name": "stdout",
     "output_type": "stream",
     "text": [
      "0 = clothes\n",
      "1 = shoes\n"
     ]
    }
   ],
   "source": [
    "def whileloop(n):\n",
    "    i = 0\n",
    "    sum = 0\n",
    "    while (i <= n): #For while loop, when condition is satisfied, the statement will be excuted.\n",
    "        sum += i\n",
    "        i +=1\n",
    "    return(sum)\n",
    "whileloop(5)\n",
    "def forloop():\n",
    "    product = (\"clothes\",\"shoes\",\"food\",\"drinks\")\n",
    "    for index, value in enumerate(product): #For for loop, when condition is satisfied, the statement will be excuted.\n",
    "        if index == 2:\n",
    "            break  #Terminate the loop\n",
    "        print(index,'=',value)\n",
    "forloop()\n",
    "\n"
   ]
  },
  {
   "cell_type": "code",
   "execution_count": 5,
   "metadata": {},
   "outputs": [
    {
     "name": "stdout",
     "output_type": "stream",
     "text": [
      "0 = clothes\n",
      "1 = shoes\n",
      "3 = drinks\n"
     ]
    }
   ],
   "source": [
    "def forloop2():\n",
    "    product = (\"clothes\",\"shoes\",\"food\",\"drinks\")\n",
    "    for index, value in enumerate(product): #For for loop, when condition is satisfied, the statement will be excuted.\n",
    "        if index == 2:\n",
    "            continue  #Skip the rest of the code inside a loop for the current iteration\n",
    "        print(index,'=',value)\n",
    "forloop2()"
   ]
  },
  {
   "cell_type": "code",
   "execution_count": 6,
   "metadata": {},
   "outputs": [
    {
     "name": "stdout",
     "output_type": "stream",
     "text": [
      "0 = clothes\n",
      "1 = shoes\n",
      "3 = drinks\n"
     ]
    }
   ],
   "source": [
    "def forloop3():\n",
    "    product = (\"clothes\",\"shoes\",\"food\",\"drinks\")\n",
    "    for index, value in enumerate(product): #For for loop, when condition is satisfied, the statement will be excuted.\n",
    "        if index == 2:\n",
    "            pass#A pass statement will not execute any code or command\n",
    "        else:\n",
    "            print(index,'=',value)\n",
    "forloop3()"
   ]
  },
  {
   "cell_type": "markdown",
   "metadata": {},
   "source": [
    "# 4. \n",
    "(1 points) In this example, we have student names and their grades listed as follows: \n",
    "\n",
    "‘Michael’:93, ‘Betty’:95, ‘Silin’:94, ‘Yash’:90, ‘Hongjun’:93, ‘Seth’:82\n"
   ]
  },
  {
   "cell_type": "markdown",
   "metadata": {},
   "source": [
    "(1) Construct a dictionary with key value pairs corresponding to student names and grades."
   ]
  },
  {
   "cell_type": "code",
   "execution_count": 7,
   "metadata": {},
   "outputs": [
    {
     "data": {
      "text/plain": [
       "{'Michael': 93,\n",
       " 'Betty': 95,\n",
       " 'Silin': 94,\n",
       " 'Yash': 90,\n",
       " 'Hongjun': 93,\n",
       " 'Seth': 82}"
      ]
     },
     "execution_count": 7,
     "metadata": {},
     "output_type": "execute_result"
    }
   ],
   "source": [
    "students = {'Michael':93, 'Betty':95, 'Silin':94, 'Yash':90, 'Hongjun':93, 'Seth':82}\n",
    "type(students)\n",
    "students"
   ]
  },
  {
   "cell_type": "markdown",
   "metadata": {},
   "source": [
    "(2) Based on the dictionary you created, sort all students by their grades (descending order), which means you need to sort the dictionary by values."
   ]
  },
  {
   "cell_type": "code",
   "execution_count": 8,
   "metadata": {},
   "outputs": [
    {
     "data": {
      "text/plain": [
       "{'Betty': 95,\n",
       " 'Silin': 94,\n",
       " 'Michael': 93,\n",
       " 'Hongjun': 93,\n",
       " 'Yash': 90,\n",
       " 'Seth': 82}"
      ]
     },
     "execution_count": 8,
     "metadata": {},
     "output_type": "execute_result"
    }
   ],
   "source": [
    "order = dict(sorted(students.items(), key = lambda s: s[1], reverse = True))\n",
    "order"
   ]
  },
  {
   "cell_type": "markdown",
   "metadata": {},
   "source": [
    "(3) If there comes a new student called ‘Carl’, and his grade is 91, please insert this new \n",
    "name-grade pair into our dictionary, make sure his grade no higher than previous one \n",
    "and no lower than next one. "
   ]
  },
  {
   "cell_type": "code",
   "execution_count": 9,
   "metadata": {},
   "outputs": [
    {
     "data": {
      "text/plain": [
       "{'Betty': 95,\n",
       " 'Silin': 94,\n",
       " 'Michael': 93,\n",
       " 'Hongjun': 93,\n",
       " 'Carl': 91,\n",
       " 'Yash': 90,\n",
       " 'Seth': 82}"
      ]
     },
     "execution_count": 9,
     "metadata": {},
     "output_type": "execute_result"
    }
   ],
   "source": [
    "order['Carl'] = 91\n",
    "reorder = dict(sorted(order.items(), key = lambda s: s[1], reverse = True))\n",
    "reorder"
   ]
  },
  {
   "cell_type": "markdown",
   "metadata": {},
   "source": [
    "(4) Remove all students’ information with grades lower than 90 from the original \n",
    "dictionary."
   ]
  },
  {
   "cell_type": "code",
   "execution_count": 10,
   "metadata": {},
   "outputs": [
    {
     "data": {
      "text/plain": [
       "{'Michael': 93, 'Betty': 95, 'Silin': 94, 'Yash': 90, 'Hongjun': 93}"
      ]
     },
     "execution_count": 10,
     "metadata": {},
     "output_type": "execute_result"
    }
   ],
   "source": [
    "#method 1\n",
    "listofkey=[]\n",
    "for key in students:\n",
    "    listofkey.append(key)\n",
    "for name in listofkey:\n",
    "    if students[name] < 90:\n",
    "        del students[name]\n",
    "students"
   ]
  },
  {
   "cell_type": "code",
   "execution_count": 11,
   "metadata": {},
   "outputs": [
    {
     "data": {
      "text/plain": [
       "{'Michael': 93, 'Betty': 95, 'Silin': 94, 'Yash': 90, 'Hongjun': 93}"
      ]
     },
     "execution_count": 11,
     "metadata": {},
     "output_type": "execute_result"
    }
   ],
   "source": [
    "# method 2\n",
    "for key, value in students.items():\n",
    "    value = int(value)\n",
    "newdict = {key: value for key, value in students.items() if value >= 90}\n",
    "newdict"
   ]
  },
  {
   "cell_type": "markdown",
   "metadata": {},
   "source": [
    "(5) Reverse the dictionary key-value pairs, construct a dictionary with grades as keys and \n",
    "corresponding student names as values."
   ]
  },
  {
   "cell_type": "code",
   "execution_count": 12,
   "metadata": {},
   "outputs": [
    {
     "data": {
      "text/plain": [
       "{93: 'Hongjun & Michael', 95: 'Betty', 94: 'Silin', 90: 'Yash'}"
      ]
     },
     "execution_count": 12,
     "metadata": {},
     "output_type": "execute_result"
    }
   ],
   "source": [
    "newdict = {value: key for key, value in students.items()}\n",
    "newdict[93] ='Hongjun & Michael'\n",
    "newdict"
   ]
  },
  {
   "cell_type": "markdown",
   "metadata": {},
   "source": [
    "# 5. \n",
    "(1.5 points) In this example, we have a character string as follows:\n",
    "String: ‘HKU is a well known university, located in Hong Kong island’\n"
   ]
  },
  {
   "cell_type": "markdown",
   "metadata": {},
   "source": [
    "(1) Calculate the length of the string"
   ]
  },
  {
   "cell_type": "code",
   "execution_count": 37,
   "metadata": {},
   "outputs": [
    {
     "data": {
      "text/plain": [
       "59"
      ]
     },
     "execution_count": 37,
     "metadata": {},
     "output_type": "execute_result"
    }
   ],
   "source": [
    "text = 'HKU is a well known university, located in Hong Kong island'\n",
    "\n",
    "len(text)"
   ]
  },
  {
   "cell_type": "markdown",
   "metadata": {},
   "source": [
    "(2) Convert the string to lowercase characters"
   ]
  },
  {
   "cell_type": "code",
   "execution_count": 38,
   "metadata": {},
   "outputs": [
    {
     "data": {
      "text/plain": [
       "'hku is a well known university, located in hong kong island'"
      ]
     },
     "execution_count": 38,
     "metadata": {},
     "output_type": "execute_result"
    }
   ],
   "source": [
    "\n",
    "text.lower()"
   ]
  },
  {
   "cell_type": "markdown",
   "metadata": {},
   "source": [
    "(3) Reverse the string by characters, the output should be:\n",
    "Output: ‘dnalsi gnoK gnoH ni detacol ,ytisrevinu nwonk llew a si UKH’"
   ]
  },
  {
   "cell_type": "code",
   "execution_count": 39,
   "metadata": {},
   "outputs": [
    {
     "name": "stdout",
     "output_type": "stream",
     "text": [
      "dnalsi gnoK gnoH ni detacol ,ytisrevinu nwonk llew a si UKH "
     ]
    }
   ],
   "source": [
    "text = 'HKU is a well known university, located in Hong Kong island'\n",
    "new = text.split()[::-1]\n",
    "for index, value in enumerate(new):\n",
    "    new[index] = value[::-1]\n",
    "for word in new:\n",
    "    print(word,end=' ')"
   ]
  },
  {
   "cell_type": "markdown",
   "metadata": {},
   "source": [
    "(4) Reverse characters in every word of the string, the output should be:\n",
    "Output: ‘UKH si a llew nwonk ytisrevinu, detacol ni gnoH gnoK dnalsi’\n"
   ]
  },
  {
   "cell_type": "code",
   "execution_count": 42,
   "metadata": {},
   "outputs": [
    {
     "name": "stdout",
     "output_type": "stream",
     "text": [
      "UKH si a llew nwonk ytisrevinu , detacol ni gnoH gnoK dnalsi "
     ]
    }
   ],
   "source": [
    "text = 'HKU is a well known university , located in Hong Kong island'\n",
    "textlist=text.split()\n",
    "for index, val in enumerate(textlist):\n",
    "    textlist[index] = val[::-1]\n",
    "for word in textlist:\n",
    "    print(word,end=' ')"
   ]
  },
  {
   "cell_type": "markdown",
   "metadata": {},
   "source": [
    "(5) Reverse the order of words in the string, the output should be:\n",
    " Output: ‘island Kong Hong in located, university known well a is HKU’"
   ]
  },
  {
   "cell_type": "code",
   "execution_count": 43,
   "metadata": {},
   "outputs": [
    {
     "name": "stdout",
     "output_type": "stream",
     "text": [
      "island Kong Hong in located , university known well a is HKU "
     ]
    }
   ],
   "source": [
    "newlist = text.split()[::-1]\n",
    "for word in newlist:\n",
    "    print(word,end=' ')"
   ]
  },
  {
   "cell_type": "markdown",
   "metadata": {},
   "source": [
    "# Python functions\n",
    "# 6. \n",
    "(1 points) Given an integer x > 0, check whether any bit of x and its two neighbors are \n",
    "different.\n"
   ]
  },
  {
   "cell_type": "code",
   "execution_count": 18,
   "metadata": {},
   "outputs": [
    {
     "data": {
      "text/plain": [
       "True"
      ]
     },
     "execution_count": 18,
     "metadata": {},
     "output_type": "execute_result"
    }
   ],
   "source": [
    "def check(x):\n",
    "    x = list(str(x))\n",
    "    k = [int(value) for value in x] #transform x into a list consists of numbers\n",
    "    for i in range(len(k)):\n",
    "        if i == len(k)-1:\n",
    "            break\n",
    "        if k[i] == k[i+1]:\n",
    "            return True\n",
    "    return False\n",
    "\n",
    "check(1001)\n",
    "# If any bit of x and its two neighbors are different, check() return True, else return False"
   ]
  },
  {
   "cell_type": "markdown",
   "metadata": {},
   "source": [
    "# 7. \n",
    "(1.5 points) Suppose there exists an array filled with unique integers (e.g. [1,2,3]), anyone \n",
    "in STAT7008 can shuffle the elements in the array. Please design a reusable and universal \n",
    "method that anyone in STAT7008 can find his/her own disordered array in the collections \n",
    "generated from your method. Please write down a Python snippet and give some test cases \n",
    "to verify your answer in a .ipynb file."
   ]
  },
  {
   "cell_type": "code",
   "execution_count": 19,
   "metadata": {},
   "outputs": [],
   "source": [
    "def shuffleint(listval):\n",
    "    newlist=[]\n",
    "    if listval ==[]:\n",
    "        return [listval]\n",
    "    \n",
    "    for i in range(len(listval)):\n",
    "        restlist = listval[:i] + listval[i+1:]\n",
    "        \n",
    "        for x in shuffleint(restlist):\n",
    "            newlist.append(listval[i:i+1] + x)\n",
    "    return newlist\n",
    "\n",
    "def main(listval):\n",
    "    return shuffleint(listval)"
   ]
  },
  {
   "cell_type": "code",
   "execution_count": 20,
   "metadata": {},
   "outputs": [
    {
     "data": {
      "text/plain": [
       "[[1, 2, 3], [1, 3, 2], [2, 1, 3], [2, 3, 1], [3, 1, 2], [3, 2, 1]]"
      ]
     },
     "execution_count": 20,
     "metadata": {},
     "output_type": "execute_result"
    }
   ],
   "source": [
    "main([1,2,3])"
   ]
  },
  {
   "cell_type": "markdown",
   "metadata": {},
   "source": [
    "# 8. \n",
    "(1 points) In this example, two strings A and B are composed of ‘1’ and ‘0’, please calculate \n",
    "the summation of these two binary strings. \n",
    "For example, there are binary strings A and B:\n",
    "A = ‘10101010’; B=’11001100’\n",
    "The binary summation of A and B is:\n",
    "A+B = ‘101110110’\n",
    "Please design and write down your own binary summation function."
   ]
  },
  {
   "cell_type": "code",
   "execution_count": 21,
   "metadata": {},
   "outputs": [
    {
     "data": {
      "text/plain": [
       "'101110110'"
      ]
     },
     "execution_count": 21,
     "metadata": {},
     "output_type": "execute_result"
    }
   ],
   "source": [
    "\n",
    "def binsum(A, B):\n",
    "    A = int(A,2)\n",
    "    B = int(B,2)\n",
    "    total =A+B\n",
    "    binary = lambda n: \"\" if n==0 else binary(n//2) + str(n%2) \n",
    "    return binary(total)\n",
    "binsum('10101010','11001100')"
   ]
  },
  {
   "cell_type": "markdown",
   "metadata": {},
   "source": [
    "# 9. \n",
    "(1 points) There are two matrix A and B, design your own function to calculate t\n",
    "he matrix multiplication results of A and B. You should represent all matrix in ne\n",
    "sted lists."
   ]
  },
  {
   "cell_type": "code",
   "execution_count": 22,
   "metadata": {},
   "outputs": [
    {
     "name": "stdout",
     "output_type": "stream",
     "text": [
      "[[42, 36, 30], [96, 81, 66], [150, 126, 102]]\n"
     ]
    }
   ],
   "source": [
    "def matrixmul(A, B):\n",
    "    m = len(A)\n",
    "    n = len(B[0])\n",
    "    m3 = [[0 for i in range(m)] for j in range(n)] #created n rows m columns  0 matrix\n",
    "    for i in range(m):\n",
    "        for j in range(n):\n",
    "            for k in range(len(B)):\n",
    "                m3[i][j] = m3[i][j] +A[i][k] * B[k][j]\n",
    "    return m3\n",
    "\n",
    "\n",
    "A = [[1, 2, 3], [4, 5, 6], [7, 8, 9]]\n",
    "B =  [[3, 2, 1],[6, 5, 4],[9, 8, 7]]\n",
    "print(matrixmul(A, B))"
   ]
  },
  {
   "cell_type": "markdown",
   "metadata": {},
   "source": [
    "# 10. \n",
    "(1 points) Given two points (x1, y1) ,(x2, y2) in a Cartesian coordinate system, write a \n",
    "function to return their distance as a float value. Here x1, y1, x2, y2 can be float or int."
   ]
  },
  {
   "cell_type": "code",
   "execution_count": 23,
   "metadata": {},
   "outputs": [
    {
     "data": {
      "text/plain": [
       "2.0"
      ]
     },
     "execution_count": 23,
     "metadata": {},
     "output_type": "execute_result"
    }
   ],
   "source": [
    "def distance(point1, point2):\n",
    "    point1 = list(point1)\n",
    "    point2 = list(point2)\n",
    "    d = pow( ((point1[0]-point2[0])**2+(point1[1]-point2[1])**2), 0.5)\n",
    "    d = float(d)\n",
    "    return d\n",
    "distance([1,2],[1,4])"
   ]
  },
  {
   "cell_type": "markdown",
   "metadata": {},
   "source": [
    "# 11. \n",
    "(1.5 points) In scientific computing, we sometimes do not need to get an accurate solution, \n",
    "but to get an approximate solution is enough. Python provides us with a built-in function \n",
    "round(number[, ndigits]) to get an approximate integer of a floating point number. Please \n",
    "give the output of the following code and explain why the output is like that. (Hint: you can \n",
    "visit the Python official website to inquire about the built-in round function)"
   ]
  },
  {
   "cell_type": "code",
   "execution_count": 24,
   "metadata": {},
   "outputs": [
    {
     "name": "stdout",
     "output_type": "stream",
     "text": [
      "0 2 2 4\n"
     ]
    }
   ],
   "source": [
    "print(round(0.5),\n",
    "round(1.5),\n",
    "round(2.5),\n",
    "round(3.5))"
   ]
  },
  {
   "cell_type": "code",
   "execution_count": 25,
   "metadata": {},
   "outputs": [
    {
     "name": "stdout",
     "output_type": "stream",
     "text": [
      "Help on built-in function round in module builtins:\n",
      "\n",
      "round(number, ndigits=None)\n",
      "    Round a number to a given precision in decimal digits.\n",
      "    \n",
      "    The return value is an integer if ndigits is omitted or None.  Otherwise\n",
      "    the return value has the same type as the number.  ndigits may be negative.\n",
      "\n"
     ]
    }
   ],
   "source": [
    "help(round)"
   ]
  },
  {
   "cell_type": "markdown",
   "metadata": {},
   "source": [
    "This is not a bug: it’s a result of the fact that most decimal fractions can’t be represented exactly as a float. Python only prints a decimal approximation to the true decimal value of the binary approximation stored by the machine."
   ]
  },
  {
   "cell_type": "markdown",
   "metadata": {},
   "source": [
    "# 12.\n",
    "(2 points) Wirte a function that takes two arguments, i.e. row and col, and returns the value \n",
    "in the given row and column of Pascal's Trangle. Here we suppose the rows of Pascal's \n",
    "triangle are enumerated starting with row 1, and each row starts at column 1. If the function \n",
    "receives two illegal inputs, you should return None. If you are not very clear about the \n",
    "concept of Pascal's Trangle, you can refer to https://www.mathsisfun.com/pascals\u0002triangle.html for its detailed definition"
   ]
  },
  {
   "cell_type": "code",
   "execution_count": 26,
   "metadata": {},
   "outputs": [],
   "source": [
    "# method 1\n",
    "def num(n):\n",
    "    if n == 0:\n",
    "        return 1\n",
    "    else:\n",
    "        return n * num(n - 1)\n",
    "        \n",
    "    \n",
    "def pascal_trangle(m ,n):\n",
    "    final = num(m - 1) / (num(n - 1) * num(m - n))\n",
    "    return final\n",
    "\n"
   ]
  },
  {
   "cell_type": "code",
   "execution_count": 27,
   "metadata": {},
   "outputs": [
    {
     "name": "stdout",
     "output_type": "stream",
     "text": [
      "2.0 3.0 4.0\n"
     ]
    }
   ],
   "source": [
    "print(pascal_trangle(3,2),\n",
    "pascal_trangle(4,2), \n",
    "pascal_trangle(5,2))"
   ]
  },
  {
   "cell_type": "code",
   "execution_count": 28,
   "metadata": {},
   "outputs": [],
   "source": [
    "#method 2\n",
    "def pascal_trangle(m,n):\n",
    "    if (n  == 1 or n == m):\n",
    "        final = 1\n",
    "  \n",
    "    else:\n",
    "        final = pascal_trangle(m -1,n -1) + pascal_trangle(m-1,n)\n",
    "    return final"
   ]
  },
  {
   "cell_type": "code",
   "execution_count": 29,
   "metadata": {},
   "outputs": [
    {
     "name": "stdout",
     "output_type": "stream",
     "text": [
      "2 3 4\n"
     ]
    }
   ],
   "source": [
    "print(pascal_trangle(3,2),\n",
    "pascal_trangle(4,2), \n",
    "pascal_trangle(5,2))"
   ]
  },
  {
   "cell_type": "markdown",
   "metadata": {},
   "source": [
    "# 13. \n",
    "(2 points) A triangular number or triangle number counts objects arranged in an equilateral \n",
    "triangle. It is simply the number of dots in each triangular pattern:"
   ]
  },
  {
   "cell_type": "code",
   "execution_count": 30,
   "metadata": {},
   "outputs": [],
   "source": [
    "def sumnum(n):\n",
    "    if n == 1:\n",
    "        sum1 = 1\n",
    "    else:\n",
    "        sum1 = n + sumnum(n-1)\n",
    "    return sum1"
   ]
  },
  {
   "cell_type": "code",
   "execution_count": 31,
   "metadata": {},
   "outputs": [
    {
     "data": {
      "text/plain": [
       "120"
      ]
     },
     "execution_count": 31,
     "metadata": {},
     "output_type": "execute_result"
    }
   ],
   "source": [
    "sumnum(15)"
   ]
  }
 ],
 "metadata": {
  "kernelspec": {
   "display_name": "Python 3",
   "language": "python",
   "name": "python3"
  },
  "language_info": {
   "codemirror_mode": {
    "name": "ipython",
    "version": 3
   },
   "file_extension": ".py",
   "mimetype": "text/x-python",
   "name": "python",
   "nbconvert_exporter": "python",
   "pygments_lexer": "ipython3",
   "version": "3.8.5"
  }
 },
 "nbformat": 4,
 "nbformat_minor": 4
}
